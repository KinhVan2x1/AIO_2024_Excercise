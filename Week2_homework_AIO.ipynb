{
  "nbformat": 4,
  "nbformat_minor": 0,
  "metadata": {
    "colab": {
      "provenance": [],
      "collapsed_sections": [
        "KqoJBKntZeGC",
        "X10tTG2LloNS",
        "MSHZG9f9A-J-"
      ],
      "mount_file_id": "1tRgQ5MMo2FU5IOhDOiNR2Bpt_rvn1cAZ",
      "authorship_tag": "ABX9TyN1SptJ/3WcHhF1RU2wpNS5",
      "include_colab_link": true
    },
    "kernelspec": {
      "name": "python3",
      "display_name": "Python 3"
    },
    "language_info": {
      "name": "python"
    }
  },
  "cells": [
    {
      "cell_type": "markdown",
      "metadata": {
        "id": "view-in-github",
        "colab_type": "text"
      },
      "source": [
        "<a href=\"https://colab.research.google.com/github/KinhVan2x1/AIO_2024_Excercise/blob/feature/Week2_homework_AIO.ipynb\" target=\"_parent\"><img src=\"https://colab.research.google.com/assets/colab-badge.svg\" alt=\"Open In Colab\"/></a>"
      ]
    },
    {
      "cell_type": "markdown",
      "source": [
        "## Exercise 1 ##\n",
        "Cho một list các số nguyên num_list vào một sliding window có kích thước size k di chuyển từ trái sang phải. Mỗi lần dịch chuyển 1 vị trí sang phải có thể nhìn thấy được k số trong num_list và tìm số lớn nhất trong k số này sau mỗi lần trượt k phải lớn hơn hoặc bằng 1"
      ],
      "metadata": {
        "id": "4-5X5lmdwOAX"
      }
    },
    {
      "cell_type": "code",
      "source": [
        "# @title Exercise 1 ver 2 - Week 2\n",
        "num_list = [3, 4, 5, 1, -44 , 5 ,10, 12 ,33, 1]\n",
        "k = 3\n",
        "def exercise_1(data,k):\n",
        "  # Create output:\n",
        "  output = []\n",
        "\n",
        "  for i in range(len(data)): # If use range(len(data)), the list will run from 0 to 9 (index number) which will be out of bound for the list\n",
        "    # Sliding_window\n",
        "    sliding_window = data[i:k+i:1]\n",
        "\n",
        "    # Find and append the max value\n",
        "    output.append(max(sliding_window))\n",
        "    print(f'Instance: {i}| Output: {output}')\n",
        "\n",
        "    #Condition for the sliding window to stop:\n",
        "    if len(sliding_window) < k:\n",
        "      break\n",
        "\n",
        "exercise_1(num_list,k)\n"
      ],
      "metadata": {
        "colab": {
          "base_uri": "https://localhost:8080/"
        },
        "id": "7J6UeZJ8LQl-",
        "outputId": "49f99ffc-53ba-4f1e-fbd9-15d4bbe52a8a",
        "cellView": "form"
      },
      "execution_count": 32,
      "outputs": [
        {
          "output_type": "stream",
          "name": "stdout",
          "text": [
            "Instance: 0| Output: [5]\n",
            "Instance: 1| Output: [5, 5]\n",
            "Instance: 2| Output: [5, 5, 5]\n",
            "Instance: 3| Output: [5, 5, 5, 5]\n",
            "Instance: 4| Output: [5, 5, 5, 5, 10]\n",
            "Instance: 5| Output: [5, 5, 5, 5, 10, 12]\n",
            "Instance: 6| Output: [5, 5, 5, 5, 10, 12, 33]\n",
            "Instance: 7| Output: [5, 5, 5, 5, 10, 12, 33, 33]\n",
            "Instance: 8| Output: [5, 5, 5, 5, 10, 12, 33, 33, 33]\n"
          ]
        }
      ]
    },
    {
      "cell_type": "code",
      "source": [
        "# @title Exercise_1_ver_2\n",
        "data = num_list = [3, 4, 5, 1, -44 , 5 ,10, 12 ,33, 1]\n",
        "\n",
        "def exercise_1_ver_2(data,window_size):\n",
        "  output = []\n",
        "  k = window_size\n",
        "  for i in range(len(data) - k+1): # Using range(len(data) - k + 1) will prevent the sliding window from running out of bound\n",
        "    output.append(max(data[i:i+k:1]))\n",
        "    print(f'Instance: {i}| Output: {output}')\n",
        "  return f'Final output: {output}'\n",
        "\n",
        "exercise_1_ver_2(data,window_size=3)"
      ],
      "metadata": {
        "colab": {
          "base_uri": "https://localhost:8080/",
          "height": 174
        },
        "id": "1tErmpyjSetr",
        "outputId": "e3ec14ab-0904-4bb2-9630-c6c6ee8abd70",
        "cellView": "form"
      },
      "execution_count": 29,
      "outputs": [
        {
          "output_type": "stream",
          "name": "stdout",
          "text": [
            "Instance: 0| Output: [5]\n",
            "Instance: 1| Output: [5, 5]\n",
            "Instance: 2| Output: [5, 5, 5]\n",
            "Instance: 3| Output: [5, 5, 5, 5]\n",
            "Instance: 4| Output: [5, 5, 5, 5, 10]\n",
            "Instance: 5| Output: [5, 5, 5, 5, 10, 12]\n",
            "Instance: 6| Output: [5, 5, 5, 5, 10, 12, 33]\n",
            "Instance: 7| Output: [5, 5, 5, 5, 10, 12, 33, 33]\n"
          ]
        },
        {
          "output_type": "execute_result",
          "data": {
            "text/plain": [
              "'Final output: [5, 5, 5, 5, 10, 12, 33, 33]'"
            ],
            "application/vnd.google.colaboratory.intrinsic+json": {
              "type": "string"
            }
          },
          "metadata": {},
          "execution_count": 29
        }
      ]
    },
    {
      "cell_type": "markdown",
      "source": [
        "##Exercise 2:##\n",
        " Write a function that return a dictionary that counts the number of occurence for each letter, provided that the key is the letter and value is the number of appearance"
      ],
      "metadata": {
        "id": "3nQTqWYFgTvc"
      }
    },
    {
      "cell_type": "code",
      "source": [
        "# @title Exercise 2 _Draft\n",
        "input = 'hello'\n",
        "dictionary = {}\n",
        "key = 0\n",
        "value = 0\n",
        "for i,v in enumerate(input):\n",
        "  dictionary[input[i]] = input.count(v)\n",
        "print(dictionary)"
      ],
      "metadata": {
        "colab": {
          "base_uri": "https://localhost:8080/"
        },
        "id": "I4uEi6U0gLWy",
        "outputId": "b10a3a38-4c54-4a31-af14-01545e37df2d",
        "cellView": "form"
      },
      "execution_count": 35,
      "outputs": [
        {
          "output_type": "stream",
          "name": "stdout",
          "text": [
            "{'h': 1, 'e': 1, 'l': 2, 'o': 1}\n"
          ]
        }
      ]
    },
    {
      "cell_type": "code",
      "source": [
        "# @title Excercise 2\n",
        "def exercise_2(string):\n",
        "  dictionary = {}\n",
        "  for i,v in enumerate(string):\n",
        "    dictionary[string[i]] = string.count(v)\n",
        "  print(dictionary)\n",
        "\n",
        "string = 'smiles'\n",
        "exercise_2(string)"
      ],
      "metadata": {
        "colab": {
          "base_uri": "https://localhost:8080/"
        },
        "cellView": "form",
        "id": "2cH9vX2fP-p0",
        "outputId": "fdfa4d29-bcd2-4091-95d2-1138982d79ef"
      },
      "execution_count": 34,
      "outputs": [
        {
          "output_type": "stream",
          "name": "stdout",
          "text": [
            "{'s': 2, 'm': 1, 'i': 1, 'l': 1, 'e': 1}\n"
          ]
        }
      ]
    },
    {
      "cell_type": "code",
      "source": [
        "# @title Exercise_3\n",
        "!gdown https://drive.google.com/uc?id=1IBScGdW2xlNsc9v5zSAya548kNgiOrko\n",
        "file_path = '/content/P1_data.txt'\n",
        "\n",
        "def word_count(file_path):\n",
        "  with open(file_path, 'r') as f:\n",
        "    document = f. read()\n",
        "\n",
        "  words = document.lower().split()\n",
        "  words.sort(reverse=False)\n",
        "  counter = dict()\n",
        "\n",
        "  for word in words:\n",
        "    if word in counter:\n",
        "      counter[word] += 1\n",
        "    else:\n",
        "      counter[word] = 1\n",
        "  return counter\n",
        "\n",
        "word_count(file_path)"
      ],
      "metadata": {
        "colab": {
          "base_uri": "https://localhost:8080/"
        },
        "cellView": "form",
        "id": "73t7b9_iSHDB",
        "outputId": "a0a57987-4d75-4970-9713-30cf4d82c74a"
      },
      "execution_count": 46,
      "outputs": [
        {
          "output_type": "stream",
          "name": "stdout",
          "text": [
            "Downloading...\n",
            "From: https://drive.google.com/uc?id=1IBScGdW2xlNsc9v5zSAya548kNgiOrko\n",
            "To: /content/P1_data.txt\n",
            "\r  0% 0.00/747 [00:00<?, ?B/s]\r100% 747/747 [00:00<00:00, 3.56MB/s]\n"
          ]
        },
        {
          "output_type": "execute_result",
          "data": {
            "text/plain": [
              "{'a': 7,\n",
              " 'again': 1,\n",
              " 'and': 1,\n",
              " 'are': 1,\n",
              " 'at': 1,\n",
              " 'be': 1,\n",
              " 'become': 2,\n",
              " 'bricks': 1,\n",
              " 'busy': 1,\n",
              " 'but': 1,\n",
              " 'came': 1,\n",
              " 'can': 3,\n",
              " 'cannot': 1,\n",
              " 'change': 1,\n",
              " 'comes': 2,\n",
              " 'conquers': 1,\n",
              " 'courage': 1,\n",
              " 'day': 1,\n",
              " 'different': 1,\n",
              " 'employed': 1,\n",
              " 'enough': 1,\n",
              " 'everything': 1,\n",
              " 'firm': 1,\n",
              " 'for': 3,\n",
              " 'foundation': 1,\n",
              " 'from': 1,\n",
              " 'get': 2,\n",
              " 'have': 1,\n",
              " 'he': 1,\n",
              " 'help': 1,\n",
              " 'him': 1,\n",
              " 'himself': 1,\n",
              " 'his': 2,\n",
              " 'if': 1,\n",
              " 'in': 4,\n",
              " 'is': 3,\n",
              " 'it': 2,\n",
              " 'just': 2,\n",
              " 'kind': 1,\n",
              " 'lay': 1,\n",
              " 'life': 2,\n",
              " 'looking': 1,\n",
              " 'majority': 1,\n",
              " 'makes': 1,\n",
              " 'man': 6,\n",
              " 'mightiest': 1,\n",
              " 'mistakes': 1,\n",
              " 'morning': 1,\n",
              " 'not': 1,\n",
              " 'of': 4,\n",
              " 'one': 4,\n",
              " 'opportunity': 1,\n",
              " 'other': 1,\n",
              " 'others': 1,\n",
              " 'people': 1,\n",
              " 'positive': 1,\n",
              " 'problems': 1,\n",
              " 'profit': 1,\n",
              " 'rather': 1,\n",
              " 'ready': 1,\n",
              " 'secret': 1,\n",
              " 'small': 1,\n",
              " 'solve': 1,\n",
              " 'success': 3,\n",
              " 'successful': 2,\n",
              " 'the': 5,\n",
              " 'them': 1,\n",
              " 'they': 1,\n",
              " 'thinking': 1,\n",
              " 'those': 1,\n",
              " 'thought': 1,\n",
              " 'thrown': 1,\n",
              " 'to': 3,\n",
              " 'too': 1,\n",
              " 'try': 2,\n",
              " 'up': 1,\n",
              " 'usually': 1,\n",
              " 'value': 1,\n",
              " 'want': 2,\n",
              " 'warrior': 1,\n",
              " 'way': 1,\n",
              " 'we': 3,\n",
              " 'what': 1,\n",
              " 'when': 2,\n",
              " 'who': 3,\n",
              " 'whole': 1,\n",
              " 'will': 2,\n",
              " 'with': 4,\n",
              " 'you': 3,\n",
              " 'your': 1}"
            ]
          },
          "metadata": {},
          "execution_count": 46
        }
      ]
    },
    {
      "cell_type": "code",
      "source": [
        "# @title Exercise_4 Levenshtein Distance\n",
        "def levenshtein_distance(token1, token2):\n",
        "    distances = [[0]*(len(token2)+1) for i in range(len(token1)+1)]\n",
        "\n",
        "    for t1 in range(len(token1) + 1):\n",
        "        distances[t1][0] = t1\n",
        "\n",
        "    for t2 in range(len(token2) + 1):\n",
        "        distances[0][t2] = t2\n",
        "\n",
        "    a = 0\n",
        "    b = 0\n",
        "    c = 0\n",
        "\n",
        "    for t1 in range(1, len(token1) + 1):\n",
        "        for t2 in range(1, len(token2) + 1):\n",
        "            if (token1[t1-1] == token2[t2-1]):\n",
        "                distances[t1][t2] = distances[t1 - 1][t2 - 1]\n",
        "            else:\n",
        "                a = distances[t1][t2 - 1]\n",
        "                b = distances[t1 - 1][t2]\n",
        "                c = distances[t1 - 1][t2 - 1]\n",
        "\n",
        "                if (a <= b and a <= c):\n",
        "                    distances[t1][t2] = a + 1\n",
        "                elif (b <= a and b <= c):\n",
        "                    distances[t1][t2] = b + 1\n",
        "                else:\n",
        "                    distances[t1][t2] = c + 1\n",
        "\n",
        "    return distances[len(token1)][len(token2)]\n",
        "\n",
        "assert levenshtein_distance(\"hi\", \"hello\") == 4.0\n",
        "print(levenshtein_distance(\"hola\", \"hello\"))"
      ],
      "metadata": {
        "colab": {
          "base_uri": "https://localhost:8080/"
        },
        "id": "e3AIgUKxOE_D",
        "outputId": "268cf4f4-d299-47f7-b90c-a2aa6f4db00b"
      },
      "execution_count": 24,
      "outputs": [
        {
          "output_type": "stream",
          "name": "stdout",
          "text": [
            "3\n"
          ]
        }
      ]
    },
    {
      "cell_type": "markdown",
      "source": [
        "# BUỔI 1 WEEK 2 - LIST #"
      ],
      "metadata": {
        "id": "KqoJBKntZeGC"
      }
    },
    {
      "cell_type": "code",
      "source": [
        "data = [ _ for _ in range(4,10)]"
      ],
      "metadata": {
        "id": "Dr0zjIUBZjAr"
      },
      "execution_count": 5,
      "outputs": []
    },
    {
      "cell_type": "code",
      "source": [
        "print(data[:-3])\n",
        "print(data[-2:-4])\n",
        "print(data[1:-3])"
      ],
      "metadata": {
        "colab": {
          "base_uri": "https://localhost:8080/"
        },
        "id": "Gg1pQdC-h9C3",
        "outputId": "91db1d0c-9f1f-4e86-aa9d-a9b69fa0503c"
      },
      "execution_count": 6,
      "outputs": [
        {
          "output_type": "stream",
          "name": "stdout",
          "text": [
            "[4, 5, 6]\n",
            "[]\n",
            "[5, 6]\n"
          ]
        }
      ]
    },
    {
      "cell_type": "code",
      "source": [
        "data = [2,3,4,5,[4,6,8],7,8]"
      ],
      "metadata": {
        "id": "toKzkWggkAEq"
      },
      "execution_count": 7,
      "outputs": []
    },
    {
      "cell_type": "code",
      "source": [
        "data[-3][2]"
      ],
      "metadata": {
        "colab": {
          "base_uri": "https://localhost:8080/"
        },
        "id": "DghynN8jkHQQ",
        "outputId": "dc52d13b-1431-4f06-b7c9-c3e6d96a8a39"
      },
      "execution_count": 8,
      "outputs": [
        {
          "output_type": "execute_result",
          "data": {
            "text/plain": [
              "8"
            ]
          },
          "metadata": {},
          "execution_count": 8
        }
      ]
    },
    {
      "cell_type": "code",
      "source": [
        "data.insert(1,3)"
      ],
      "metadata": {
        "id": "Ov2JCXgMlGfa"
      },
      "execution_count": 9,
      "outputs": []
    },
    {
      "cell_type": "code",
      "source": [
        "print(data)"
      ],
      "metadata": {
        "colab": {
          "base_uri": "https://localhost:8080/"
        },
        "id": "Ghp6hfAYlQuX",
        "outputId": "ec8ec713-72e5-4b77-f50f-88668331e2d6"
      },
      "execution_count": 10,
      "outputs": [
        {
          "output_type": "stream",
          "name": "stdout",
          "text": [
            "[2, 3, 3, 4, 5, [4, 6, 8], 7, 8]\n"
          ]
        }
      ]
    },
    {
      "cell_type": "code",
      "source": [
        "data.insert(0,[3,4,5])"
      ],
      "metadata": {
        "id": "9gnQErZ1lU3Q"
      },
      "execution_count": 11,
      "outputs": []
    },
    {
      "cell_type": "code",
      "source": [
        "data.extend([0,2])"
      ],
      "metadata": {
        "id": "d4yLw4ralYj9"
      },
      "execution_count": 12,
      "outputs": []
    },
    {
      "cell_type": "code",
      "source": [
        "data.sort(reverse=0)\n",
        "print(data)"
      ],
      "metadata": {
        "colab": {
          "base_uri": "https://localhost:8080/",
          "height": 159
        },
        "id": "G2w8PQdolf8o",
        "outputId": "9cd40aac-d670-41ba-8d8f-38798fe8320d"
      },
      "execution_count": 13,
      "outputs": [
        {
          "output_type": "error",
          "ename": "TypeError",
          "evalue": "'<' not supported between instances of 'int' and 'list'",
          "traceback": [
            "\u001b[0;31m---------------------------------------------------------------------------\u001b[0m",
            "\u001b[0;31mTypeError\u001b[0m                                 Traceback (most recent call last)",
            "\u001b[0;32m<ipython-input-13-32858b77081f>\u001b[0m in \u001b[0;36m<cell line: 1>\u001b[0;34m()\u001b[0m\n\u001b[0;32m----> 1\u001b[0;31m \u001b[0mdata\u001b[0m\u001b[0;34m.\u001b[0m\u001b[0msort\u001b[0m\u001b[0;34m(\u001b[0m\u001b[0mreverse\u001b[0m\u001b[0;34m=\u001b[0m\u001b[0;36m0\u001b[0m\u001b[0;34m)\u001b[0m\u001b[0;34m\u001b[0m\u001b[0;34m\u001b[0m\u001b[0m\n\u001b[0m\u001b[1;32m      2\u001b[0m \u001b[0mprint\u001b[0m\u001b[0;34m(\u001b[0m\u001b[0mdata\u001b[0m\u001b[0;34m)\u001b[0m\u001b[0;34m\u001b[0m\u001b[0;34m\u001b[0m\u001b[0m\n",
            "\u001b[0;31mTypeError\u001b[0m: '<' not supported between instances of 'int' and 'list'"
          ]
        }
      ]
    },
    {
      "cell_type": "code",
      "source": [
        "data_1 = [2,3,4]\n",
        "data_2 = [2,3,7]\n",
        "\n",
        "for v1, v2 in zip(data_1, data_2):\n",
        "  if v1 != v2:\n",
        "    out = False\n",
        "    print(v1,v2)\n",
        "  else:\n",
        "    print(v1,v2)"
      ],
      "metadata": {
        "id": "B9RO-DnVvixL"
      },
      "execution_count": null,
      "outputs": []
    },
    {
      "cell_type": "code",
      "source": [
        "data = [6,1,7]\n",
        "for _ in reversed(data):\n",
        "  print(_)"
      ],
      "metadata": {
        "id": "Wx87UbDaw3rS"
      },
      "execution_count": null,
      "outputs": []
    },
    {
      "cell_type": "code",
      "source": [
        "import random\n",
        "\n",
        "data = [ random.randint(0,10) for _ in range(10)]\n",
        "print(data)\n",
        "\n",
        "def sum_even(data):\n",
        "  result = 0\n",
        "  index = 0\n",
        "  while index < len(data):\n",
        "      if data[index]%2 == 0:\n",
        "        result += data[index]\n",
        "      index += 1\n",
        "  return result\n",
        "\n",
        "sum_even(data)"
      ],
      "metadata": {
        "colab": {
          "base_uri": "https://localhost:8080/"
        },
        "id": "u8ErVPRo5Zmz",
        "outputId": "51122969-b096-44a2-dd72-6c70329892ef"
      },
      "execution_count": 14,
      "outputs": [
        {
          "output_type": "stream",
          "name": "stdout",
          "text": [
            "[0, 0, 7, 4, 3, 10, 1, 3, 8, 9]\n"
          ]
        },
        {
          "output_type": "execute_result",
          "data": {
            "text/plain": [
              "22"
            ]
          },
          "metadata": {},
          "execution_count": 14
        }
      ]
    },
    {
      "cell_type": "code",
      "source": [
        "def two_sum(data, target):\n",
        "  for i, num in enumerate(data):\n",
        "\n",
        "    # Hiệu của target và number đang được iterate trong list\n",
        "    complement = target - num\n",
        "\n",
        "    # Kiểm tra xem hiệu có trong list hay chưa, khi có trong list thì print ra số thứ tự\n",
        "    if complement in data:\n",
        "      return [i, data.index(complement)]\n",
        "  return []\n",
        "\n",
        "def two_sum(data, target):\n",
        "  for i, num in enumerate(data):\n",
        "    complement = target - num\n",
        "    if complement in data:\n",
        "      index_comp = data.index(complement)\n",
        "      if i != index_comp:\n",
        "        return  [i, index_comp]\n",
        "  return []\n",
        "\n",
        "\n",
        "\n",
        "data = [random.randint(0,10) for _ in range(10)]\n",
        "target = 8\n",
        "print(data)\n",
        "two_sum(data, 8)"
      ],
      "metadata": {
        "colab": {
          "base_uri": "https://localhost:8080/"
        },
        "id": "UbOTVcL28LwP",
        "outputId": "39860ed5-7778-4282-bf97-194fd4b978ae"
      },
      "execution_count": 15,
      "outputs": [
        {
          "output_type": "stream",
          "name": "stdout",
          "text": [
            "[1, 8, 6, 9, 5, 8, 2, 9, 2, 1]\n"
          ]
        },
        {
          "output_type": "execute_result",
          "data": {
            "text/plain": [
              "[2, 6]"
            ]
          },
          "metadata": {},
          "execution_count": 15
        }
      ]
    },
    {
      "cell_type": "markdown",
      "source": [
        "# BUỔI 2 WEEK 2 - DATA STRUCTURE #"
      ],
      "metadata": {
        "id": "X10tTG2LloNS"
      }
    },
    {
      "cell_type": "code",
      "source": [
        "name = 'AI'\n",
        "\n",
        "length = 2\n",
        "\n",
        "for i in range(length):\n",
        "  print(name[i])"
      ],
      "metadata": {
        "colab": {
          "base_uri": "https://localhost:8080/"
        },
        "id": "oFa7od-umFjx",
        "outputId": "70687041-fa09-48b4-8e99-541805464045"
      },
      "execution_count": 16,
      "outputs": [
        {
          "output_type": "stream",
          "name": "stdout",
          "text": [
            "A\n",
            "I\n"
          ]
        }
      ]
    },
    {
      "cell_type": "code",
      "source": [
        "string = 'From aivnresearch@eiu.edu.vn '\n",
        "\n",
        "atpos = string.find('@')\n",
        "print(atpos)\n",
        "sppos = string.find(' ',atpos)\n",
        "print(sppos)\n",
        "host = string[atpos+1 : sppos]\n",
        "print(host)"
      ],
      "metadata": {
        "colab": {
          "base_uri": "https://localhost:8080/"
        },
        "id": "5bT0Bwa5ma8M",
        "outputId": "9a9009a5-b41a-4a61-eaa9-5486b101e268"
      },
      "execution_count": 17,
      "outputs": [
        {
          "output_type": "stream",
          "name": "stdout",
          "text": [
            "17\n",
            "28\n",
            "eiu.edu.vn\n"
          ]
        }
      ]
    },
    {
      "cell_type": "code",
      "source": [
        "data = [6, 5, 7, 1, 9, 2]\n",
        "print(data)\n",
        "data[1] = 4\n",
        "print(data)"
      ],
      "metadata": {
        "colab": {
          "base_uri": "https://localhost:8080/"
        },
        "id": "nVzd27vdvrZa",
        "outputId": "434d13eb-e0d3-45ad-c945-0bf7a69273c0"
      },
      "execution_count": 18,
      "outputs": [
        {
          "output_type": "stream",
          "name": "stdout",
          "text": [
            "[6, 5, 7, 1, 9, 2]\n",
            "[6, 4, 7, 1, 9, 2]\n"
          ]
        }
      ]
    },
    {
      "cell_type": "code",
      "source": [
        "data_1 = data.copy()"
      ],
      "metadata": {
        "id": "kKVsqznswJRb"
      },
      "execution_count": 19,
      "outputs": []
    },
    {
      "cell_type": "code",
      "source": [
        "def summation(x):\n",
        "  output = 0\n",
        "  for v in x: #Duyệt theo value\n",
        "    output += v\n",
        "  return output\n",
        "\n",
        "def summation_ver2(x):\n",
        "  output = 0\n",
        "  for i in range(len(x)):\n",
        "    output = output + x[i]\n",
        "  return output\n",
        "\n",
        "def mean(x):\n",
        "  output = 0\n",
        "  for v in x:\n",
        "    output += v\n",
        "  return output/len(x)\n",
        "\n",
        "print(sum(data)/(len(data)))\n",
        "mean(data)\n",
        "print(summation_ver2(data))\n",
        "print(summation(data))\n",
        "sum(data)"
      ],
      "metadata": {
        "colab": {
          "base_uri": "https://localhost:8080/"
        },
        "id": "fSOdqc8mxdMO",
        "outputId": "b64ee83c-08da-46e9-bff8-a75fe0877bcb"
      },
      "execution_count": 20,
      "outputs": [
        {
          "output_type": "stream",
          "name": "stdout",
          "text": [
            "4.833333333333333\n",
            "29\n",
            "29\n"
          ]
        },
        {
          "output_type": "execute_result",
          "data": {
            "text/plain": [
              "29"
            ]
          },
          "metadata": {},
          "execution_count": 20
        }
      ]
    },
    {
      "cell_type": "code",
      "source": [
        "# @title List Comprehension\n",
        "\n",
        "[x**2 for x in [_ for _ in range(1,10)] if x%2==0]"
      ],
      "metadata": {
        "colab": {
          "base_uri": "https://localhost:8080/"
        },
        "id": "e_aGurz_3Rw-",
        "outputId": "fbecf4df-44bd-46a5-f219-361d95abf570"
      },
      "execution_count": 21,
      "outputs": [
        {
          "output_type": "execute_result",
          "data": {
            "text/plain": [
              "[4, 16, 36, 64]"
            ]
          },
          "metadata": {},
          "execution_count": 21
        }
      ]
    },
    {
      "cell_type": "code",
      "source": [
        "def relu(x):\n",
        "  result = 0\n",
        "  if x > 0:\n",
        "    result = x\n",
        "  return result\n",
        "\n",
        "def relu_ver2(data):\n",
        "  result = [x if (x > 0) else 0 for x in data]\n",
        "\n",
        "def relu_for_list(data):\n",
        "  result = [relu(x) for x in data]\n",
        "  return result"
      ],
      "metadata": {
        "id": "IeeNIoUU4719"
      },
      "execution_count": 22,
      "outputs": []
    },
    {
      "cell_type": "code",
      "source": [
        "# @title Linear Search Algorithm\n",
        "\n",
        "data = [6, 5, 7, 1, 9, 2]\n",
        "\n",
        "def linear_search_index(data,x):\n",
        "  # Create a loop that iterate over all values within the list of int\n",
        "  for i,v in enumerate(data):\n",
        "    # If x == v then we return the index\n",
        "\n",
        "    if x != data[-1]:\n",
        "      for i, v in enumerate(data):\n",
        "        if x == v:\n",
        "          return i\n",
        "    else:\n",
        "      print(f'Value is not found in the provided list')\n",
        "      break\n",
        "\n",
        "\n",
        "\n",
        "linear_search_index(data,x=1)"
      ],
      "metadata": {
        "colab": {
          "base_uri": "https://localhost:8080/"
        },
        "id": "rblO7foo_fQJ",
        "outputId": "711b2f26-b73d-4d84-da7a-a5d53116121b"
      },
      "execution_count": 23,
      "outputs": [
        {
          "output_type": "execute_result",
          "data": {
            "text/plain": [
              "3"
            ]
          },
          "metadata": {},
          "execution_count": 23
        }
      ]
    },
    {
      "cell_type": "code",
      "source": [
        "data[-1]"
      ],
      "metadata": {
        "colab": {
          "base_uri": "https://localhost:8080/"
        },
        "id": "66N3zSmiBUbM",
        "outputId": "51001ea2-aebd-4396-b834-8f447b5fffd2"
      },
      "execution_count": 24,
      "outputs": [
        {
          "output_type": "execute_result",
          "data": {
            "text/plain": [
              "2"
            ]
          },
          "metadata": {},
          "execution_count": 24
        }
      ]
    },
    {
      "cell_type": "code",
      "source": [
        "def linear_search(data,x):\n",
        "  input = int(input('Enter your index: '))\n",
        "\n"
      ],
      "metadata": {
        "id": "irvbXE3-A4bz"
      },
      "execution_count": 25,
      "outputs": []
    },
    {
      "cell_type": "markdown",
      "source": [
        "Exercise 3: Write a function that read sentences in the txt file, counting the words that appear and return a dictionary with keys are words and values are the number of times the word appears."
      ],
      "metadata": {
        "id": "Nnre9amkLyvg"
      }
    },
    {
      "cell_type": "code",
      "source": [
        "from google.colab import drive\n",
        "drive.mount('/content/drive')"
      ],
      "metadata": {
        "id": "FH9CShHyNCMw",
        "colab": {
          "base_uri": "https://localhost:8080/",
          "height": 304
        },
        "outputId": "83d23097-aa8d-4afe-fdea-d02a74afe9c6"
      },
      "execution_count": 26,
      "outputs": [
        {
          "output_type": "error",
          "ename": "MessageError",
          "evalue": "Error: credential propagation was unsuccessful",
          "traceback": [
            "\u001b[0;31m---------------------------------------------------------------------------\u001b[0m",
            "\u001b[0;31mMessageError\u001b[0m                              Traceback (most recent call last)",
            "\u001b[0;32m<ipython-input-26-d5df0069828e>\u001b[0m in \u001b[0;36m<cell line: 2>\u001b[0;34m()\u001b[0m\n\u001b[1;32m      1\u001b[0m \u001b[0;32mfrom\u001b[0m \u001b[0mgoogle\u001b[0m\u001b[0;34m.\u001b[0m\u001b[0mcolab\u001b[0m \u001b[0;32mimport\u001b[0m \u001b[0mdrive\u001b[0m\u001b[0;34m\u001b[0m\u001b[0;34m\u001b[0m\u001b[0m\n\u001b[0;32m----> 2\u001b[0;31m \u001b[0mdrive\u001b[0m\u001b[0;34m.\u001b[0m\u001b[0mmount\u001b[0m\u001b[0;34m(\u001b[0m\u001b[0;34m'/content/drive'\u001b[0m\u001b[0;34m)\u001b[0m\u001b[0;34m\u001b[0m\u001b[0;34m\u001b[0m\u001b[0m\n\u001b[0m",
            "\u001b[0;32m/usr/local/lib/python3.10/dist-packages/google/colab/drive.py\u001b[0m in \u001b[0;36mmount\u001b[0;34m(mountpoint, force_remount, timeout_ms, readonly)\u001b[0m\n\u001b[1;32m     98\u001b[0m \u001b[0;32mdef\u001b[0m \u001b[0mmount\u001b[0m\u001b[0;34m(\u001b[0m\u001b[0mmountpoint\u001b[0m\u001b[0;34m,\u001b[0m \u001b[0mforce_remount\u001b[0m\u001b[0;34m=\u001b[0m\u001b[0;32mFalse\u001b[0m\u001b[0;34m,\u001b[0m \u001b[0mtimeout_ms\u001b[0m\u001b[0;34m=\u001b[0m\u001b[0;36m120000\u001b[0m\u001b[0;34m,\u001b[0m \u001b[0mreadonly\u001b[0m\u001b[0;34m=\u001b[0m\u001b[0;32mFalse\u001b[0m\u001b[0;34m)\u001b[0m\u001b[0;34m:\u001b[0m\u001b[0;34m\u001b[0m\u001b[0;34m\u001b[0m\u001b[0m\n\u001b[1;32m     99\u001b[0m   \u001b[0;34m\"\"\"Mount your Google Drive at the specified mountpoint path.\"\"\"\u001b[0m\u001b[0;34m\u001b[0m\u001b[0;34m\u001b[0m\u001b[0m\n\u001b[0;32m--> 100\u001b[0;31m   return _mount(\n\u001b[0m\u001b[1;32m    101\u001b[0m       \u001b[0mmountpoint\u001b[0m\u001b[0;34m,\u001b[0m\u001b[0;34m\u001b[0m\u001b[0;34m\u001b[0m\u001b[0m\n\u001b[1;32m    102\u001b[0m       \u001b[0mforce_remount\u001b[0m\u001b[0;34m=\u001b[0m\u001b[0mforce_remount\u001b[0m\u001b[0;34m,\u001b[0m\u001b[0;34m\u001b[0m\u001b[0;34m\u001b[0m\u001b[0m\n",
            "\u001b[0;32m/usr/local/lib/python3.10/dist-packages/google/colab/drive.py\u001b[0m in \u001b[0;36m_mount\u001b[0;34m(mountpoint, force_remount, timeout_ms, ephemeral, readonly)\u001b[0m\n\u001b[1;32m    131\u001b[0m   )\n\u001b[1;32m    132\u001b[0m   \u001b[0;32mif\u001b[0m \u001b[0mephemeral\u001b[0m\u001b[0;34m:\u001b[0m\u001b[0;34m\u001b[0m\u001b[0;34m\u001b[0m\u001b[0m\n\u001b[0;32m--> 133\u001b[0;31m     _message.blocking_request(\n\u001b[0m\u001b[1;32m    134\u001b[0m         \u001b[0;34m'request_auth'\u001b[0m\u001b[0;34m,\u001b[0m\u001b[0;34m\u001b[0m\u001b[0;34m\u001b[0m\u001b[0m\n\u001b[1;32m    135\u001b[0m         \u001b[0mrequest\u001b[0m\u001b[0;34m=\u001b[0m\u001b[0;34m{\u001b[0m\u001b[0;34m'authType'\u001b[0m\u001b[0;34m:\u001b[0m \u001b[0;34m'dfs_ephemeral'\u001b[0m\u001b[0;34m}\u001b[0m\u001b[0;34m,\u001b[0m\u001b[0;34m\u001b[0m\u001b[0;34m\u001b[0m\u001b[0m\n",
            "\u001b[0;32m/usr/local/lib/python3.10/dist-packages/google/colab/_message.py\u001b[0m in \u001b[0;36mblocking_request\u001b[0;34m(request_type, request, timeout_sec, parent)\u001b[0m\n\u001b[1;32m    174\u001b[0m       \u001b[0mrequest_type\u001b[0m\u001b[0;34m,\u001b[0m \u001b[0mrequest\u001b[0m\u001b[0;34m,\u001b[0m \u001b[0mparent\u001b[0m\u001b[0;34m=\u001b[0m\u001b[0mparent\u001b[0m\u001b[0;34m,\u001b[0m \u001b[0mexpect_reply\u001b[0m\u001b[0;34m=\u001b[0m\u001b[0;32mTrue\u001b[0m\u001b[0;34m\u001b[0m\u001b[0;34m\u001b[0m\u001b[0m\n\u001b[1;32m    175\u001b[0m   )\n\u001b[0;32m--> 176\u001b[0;31m   \u001b[0;32mreturn\u001b[0m \u001b[0mread_reply_from_input\u001b[0m\u001b[0;34m(\u001b[0m\u001b[0mrequest_id\u001b[0m\u001b[0;34m,\u001b[0m \u001b[0mtimeout_sec\u001b[0m\u001b[0;34m)\u001b[0m\u001b[0;34m\u001b[0m\u001b[0;34m\u001b[0m\u001b[0m\n\u001b[0m",
            "\u001b[0;32m/usr/local/lib/python3.10/dist-packages/google/colab/_message.py\u001b[0m in \u001b[0;36mread_reply_from_input\u001b[0;34m(message_id, timeout_sec)\u001b[0m\n\u001b[1;32m    101\u001b[0m     ):\n\u001b[1;32m    102\u001b[0m       \u001b[0;32mif\u001b[0m \u001b[0;34m'error'\u001b[0m \u001b[0;32min\u001b[0m \u001b[0mreply\u001b[0m\u001b[0;34m:\u001b[0m\u001b[0;34m\u001b[0m\u001b[0;34m\u001b[0m\u001b[0m\n\u001b[0;32m--> 103\u001b[0;31m         \u001b[0;32mraise\u001b[0m \u001b[0mMessageError\u001b[0m\u001b[0;34m(\u001b[0m\u001b[0mreply\u001b[0m\u001b[0;34m[\u001b[0m\u001b[0;34m'error'\u001b[0m\u001b[0;34m]\u001b[0m\u001b[0;34m)\u001b[0m\u001b[0;34m\u001b[0m\u001b[0;34m\u001b[0m\u001b[0m\n\u001b[0m\u001b[1;32m    104\u001b[0m       \u001b[0;32mreturn\u001b[0m \u001b[0mreply\u001b[0m\u001b[0;34m.\u001b[0m\u001b[0mget\u001b[0m\u001b[0;34m(\u001b[0m\u001b[0;34m'data'\u001b[0m\u001b[0;34m,\u001b[0m \u001b[0;32mNone\u001b[0m\u001b[0;34m)\u001b[0m\u001b[0;34m\u001b[0m\u001b[0;34m\u001b[0m\u001b[0m\n\u001b[1;32m    105\u001b[0m \u001b[0;34m\u001b[0m\u001b[0m\n",
            "\u001b[0;31mMessageError\u001b[0m: Error: credential propagation was unsuccessful"
          ]
        }
      ]
    },
    {
      "cell_type": "code",
      "source": [
        "# Upload a txt file to drive and connect the path to this block of code"
      ],
      "metadata": {
        "id": "3_tnfAx5NHuA"
      },
      "execution_count": null,
      "outputs": []
    },
    {
      "cell_type": "code",
      "source": [
        "# Read the sentence in the file\n",
        "\n",
        "def exercise_3_ver_23():\n",
        "  '''\n",
        "  The purpose of this function is to count the number the words appear within a text entered.\n",
        "  '''\n",
        "  #Create the input, lower case, split by apostrophes\n",
        "  _program_input = str(input('Enter your text: ')).lower().split()\n",
        "\n",
        "  #Create dictionary\n",
        "  dictionary = {}\n",
        "\n",
        "  # Create a for loop to iterate through the input and append the words as keys and the number of times they appear as values\n",
        "  for i, v in enumerate(_program_input):\n",
        "    dictionary[_program_input[i]] = _program_input.count(v)\n",
        "  return dictionary\n"
      ],
      "metadata": {
        "id": "kWOF2DOYNOqX"
      },
      "execution_count": null,
      "outputs": []
    },
    {
      "cell_type": "code",
      "source": [
        "exercise_3_ver_23()"
      ],
      "metadata": {
        "id": "UTuARzNF7VLl"
      },
      "execution_count": null,
      "outputs": []
    },
    {
      "cell_type": "code",
      "source": [
        "# @title 2D List: Motivation\n",
        "\n",
        "# Create a 2D list:\n",
        "m = [[_ for _ in range(1,4)],[_ for _ in range(4,7)],[_ for _ in range(7,10)]]\n",
        "num_rows = len(m)\n",
        "num_cols = len(m[0])\n",
        "print(m)\n",
        "print(f'Number of rows: {num_rows}')\n",
        "print(f'Number of columns: {num_cols}')"
      ],
      "metadata": {
        "id": "_gAv6fzQOGmw"
      },
      "execution_count": null,
      "outputs": []
    },
    {
      "cell_type": "code",
      "source": [
        "m = [[_ for _ in range(1,4)],[_ for _ in range(4,7)],[_ for _ in range(7,10)]]\n",
        "\n",
        "for row in m:\n",
        "  for elem in row:\n",
        "    print(f'{elem}', end = ' ')\n",
        "  print()"
      ],
      "metadata": {
        "id": "jKvCYZtBDH3W"
      },
      "execution_count": null,
      "outputs": []
    },
    {
      "cell_type": "code",
      "source": [
        "for r in range(num_rows):\n",
        "  for c in range(num_cols):\n",
        "    print(m[r][c], end = ' ')\n",
        "  print()"
      ],
      "metadata": {
        "id": "MRx-11WmDdno"
      },
      "execution_count": null,
      "outputs": []
    },
    {
      "cell_type": "code",
      "source": [
        "# @title Update elements in 2D matrix\n"
      ],
      "metadata": {
        "id": "wGCVWSIQEUAm"
      },
      "execution_count": null,
      "outputs": []
    },
    {
      "cell_type": "code",
      "source": [
        "# @title Hadamard Product (Element-wise Multiplication)\n",
        "G = [[3,5,7],[4,9,8]]\n",
        "H = [[1,6,3],[0,2,9]]\n",
        "\n",
        "# Checking the number of rows and columns within the matrix\n",
        "rows = len(G)\n",
        "cols = len(G[0])\n",
        "\n",
        "# Create a matrix fill with 'None' ?\n",
        "N = x = [[None]*cols for _ in range(rows)]\n",
        "\n",
        "# Do Hadamard product:\n",
        "for r in range(rows):\n",
        "  for c in range(cols):\n",
        "    N[r][c] = G[r][c] * H[r][c]\n",
        "\n",
        "# Print the product of the matrices\n",
        "for r in range(rows):\n",
        "  for c in range(cols):\n",
        "    print(N[r][c], end = ' ')\n",
        "  print()"
      ],
      "metadata": {
        "id": "souKMffmEfH5"
      },
      "execution_count": null,
      "outputs": []
    },
    {
      "cell_type": "code",
      "source": [
        "# @title 2D List Example\n",
        "\n",
        "# Create a matrix with dimensions based on the length of the first_row and first_col initially filled with zeros\n",
        "first_row = [_ for _ in range(1,5)]\n",
        "first_col = [1,5,9,13]\n",
        "\n",
        "rows = len(first_col)\n",
        "cols = len(first_row)\n",
        "\n",
        "matrix = m = [[0] * cols for _ in range(rows)]\n",
        "\n",
        "# Fill the first row and first column\n",
        "for r in range(rows):\n",
        "  matrix[r][0] = first_col[r]\n",
        "for c in range(cols):\n",
        "  matrix[0][c] = first_row[c]\n",
        "\n",
        "for r in range(rows):\n",
        "  for c in range(cols):\n",
        "    print(matrix[r][c], end =' ')\n",
        "  print(matrix[r][c])\n",
        "print('\\n')\n",
        "# Calcularte the rest of the matrix using\n",
        "for r in range(1, rows):\n",
        "  for c in range(1, cols):\n",
        "    m[r][c] = m[r-1][c] + m[r][c-1] + m[r-1][c-1]\n",
        "    print(m[r][c], end = ' ')\n",
        "  print()\n",
        "\n"
      ],
      "metadata": {
        "id": "GGaZI0_pFCdo"
      },
      "execution_count": null,
      "outputs": []
    },
    {
      "cell_type": "code",
      "source": [
        "# @title Replicate previous example:\n",
        "import random\n",
        "\n",
        "row_1 = [ _ for _ in random.randint(5)]\n",
        "col_1 = [ _ for _ in random.randint(5)]\n",
        "\n",
        "cols = len(row_1)\n",
        "rows = len(col_1)\n"
      ],
      "metadata": {
        "id": "gPsrpCAcSy4X"
      },
      "execution_count": null,
      "outputs": []
    },
    {
      "cell_type": "code",
      "source": [
        "input_data = [ 1, '', 2, 3, 4, 5, 6, 7, 8, 9]\n",
        "\n",
        "def fill_missing_value_with_average(data):\n",
        "  missing_values = [i for i, x in enumerate(data) if len(x)== 0]\n",
        "  non_missing_value = [float(x) for x in data if len(x) > 0]\n",
        "  average = sum(non_missing_value)/len(non_missing_value)\n",
        "  for index in missing_values:\n",
        "    data[index] = average\n",
        "  return data\n",
        "\n",
        "\n",
        "fill_missing_value_with_average(input_data)"
      ],
      "metadata": {
        "id": "6Fc90c6RdbAE"
      },
      "execution_count": null,
      "outputs": []
    },
    {
      "cell_type": "code",
      "source": [
        "animals = {'cat','dog','tiger'}\n",
        "for animal in animals:\n",
        "  print(animal)\n",
        "\n",
        "animals.add('bear')\n",
        "animals.add('bear')\n",
        "print(animals)"
      ],
      "metadata": {
        "id": "IqEI3M_aEUaP"
      },
      "execution_count": null,
      "outputs": []
    },
    {
      "cell_type": "markdown",
      "source": [
        "# Tối thứ 7 - Searching Algorithm #\n"
      ],
      "metadata": {
        "id": "MSHZG9f9A-J-"
      }
    },
    {
      "cell_type": "code",
      "source": [
        "# @title Builtin Function| Summation\n",
        "def summation(x):\n",
        "  output = 0\n",
        "  for v in x:\n",
        "    output += v\n",
        "  return output\n",
        "\n",
        "test_list = [1,3,5,6,76]\n",
        "summation(test_list)"
      ],
      "metadata": {
        "id": "3KEFSzsHA97X"
      },
      "execution_count": null,
      "outputs": []
    },
    {
      "cell_type": "code",
      "source": [
        "test_list.sort(reverse=True)\n",
        "print(test_list)"
      ],
      "metadata": {
        "id": "OqKQ7dV6EUe0"
      },
      "execution_count": null,
      "outputs": []
    },
    {
      "cell_type": "code",
      "source": [
        "# @title Linear search\n"
      ],
      "metadata": {
        "id": "BTVA00R-EUkf"
      },
      "execution_count": null,
      "outputs": []
    },
    {
      "cell_type": "code",
      "source": [
        "# @title Custom sort algorithm\n",
        "def custom_sort(data):\n",
        "  sorted_list = []\n",
        "  while data:\n",
        "    ....\n",
        "\n",
        "\n"
      ],
      "metadata": {
        "id": "Yl0XxcZqFoWV"
      },
      "execution_count": null,
      "outputs": []
    },
    {
      "cell_type": "markdown",
      "source": [
        "# Bài tập trắc nhiệm AIO #"
      ],
      "metadata": {
        "id": "EaFRMvJ44LcV"
      }
    },
    {
      "cell_type": "code",
      "source": [
        "# @title Question 1 A\n",
        "def max_kernel(num_list, k):\n",
        "  result = []\n",
        "  for i in range(len(num_list) - k+1):\n",
        "    result.append(max(num_list[i:k+i:1]))\n",
        "  return result\n",
        "\n",
        "assert max_kernel ([3 , 4 , 5 , 1 , -44] , 3) == [5 , 5 , 5]\n",
        "num_list = [3 , 4 , 5 , 1 , -44 , 5 ,10 , 12 ,33 , 1]\n",
        "k = 3\n",
        "print(max_kernel(num_list,k))"
      ],
      "metadata": {
        "colab": {
          "base_uri": "https://localhost:8080/"
        },
        "id": "ZPJFCzxO4Piv",
        "outputId": "8f90ea78-01eb-4ce4-cb0f-13519163f31d"
      },
      "execution_count": 27,
      "outputs": [
        {
          "output_type": "stream",
          "name": "stdout",
          "text": [
            "[5, 5, 5, 5, 10, 12, 33, 33]\n"
          ]
        }
      ]
    },
    {
      "cell_type": "code",
      "source": [
        "# @title Question 2 A\n",
        "def character_count(word):\n",
        "  character_statistic = {}\n",
        "  for i, v in enumerate(word):\n",
        "    character_statistic[word[i]] = word.count(v)\n",
        "  return character_statistic\n",
        "\n",
        "assert character_count('Baby') == {'B': 1 , 'a': 1 , 'b': 1 , 'y': 1}\n",
        "print(character_count('smiles'))"
      ],
      "metadata": {
        "colab": {
          "base_uri": "https://localhost:8080/"
        },
        "id": "uyaWgmG94dHe",
        "outputId": "7564d311-1417-47bf-9597-0e7ff9f8719c"
      },
      "execution_count": 28,
      "outputs": [
        {
          "output_type": "stream",
          "name": "stdout",
          "text": [
            "{'s': 2, 'm': 1, 'i': 1, 'l': 1, 'e': 1}\n"
          ]
        }
      ]
    },
    {
      "cell_type": "code",
      "source": [
        "# @title Question 3 C\n",
        "\n",
        "!gdown https://drive.google.com/uc?id=1IBScGdW2xlNsc9v5zSAya548kNgiOrko\n",
        "\n",
        "def count_word(file_path):\n",
        "    with open(file_path, 'r') as f:\n",
        "        document = f.read()\n",
        "\n",
        "    words = document.split()\n",
        "\n",
        "    counter = {}\n",
        "    for word in words:\n",
        "        if word in counter:\n",
        "            counter[word] += 1\n",
        "        else:\n",
        "            counter[word] = 1\n",
        "    return counter\n",
        "file_path = '/content/P1_data.txt'\n",
        "result = count_word(file_path)\n",
        "assert result['who'] == 3\n",
        "print(result['man'])\n"
      ],
      "metadata": {
        "colab": {
          "base_uri": "https://localhost:8080/"
        },
        "id": "mYPyHCnY4dUG",
        "outputId": "be323aae-d4b3-4a92-f5c8-2b399f78ce35"
      },
      "execution_count": 26,
      "outputs": [
        {
          "output_type": "stream",
          "name": "stdout",
          "text": [
            "Downloading...\n",
            "From: https://drive.google.com/uc?id=1IBScGdW2xlNsc9v5zSAya548kNgiOrko\n",
            "To: /content/P1_data.txt\n",
            "\r  0% 0.00/747 [00:00<?, ?B/s]\r100% 747/747 [00:00<00:00, 3.24MB/s]\n",
            "6\n"
          ]
        }
      ]
    },
    {
      "cell_type": "code",
      "source": [
        "# @title Question 4 C\n",
        "def levenshtein_distance(token1, token2):\n",
        "    distances = [[0]*(len(token2)+1) for i in range(len(token1)+1)]\n",
        "\n",
        "    for t1 in range(len(token1) + 1):\n",
        "        distances[t1][0] = t1\n",
        "\n",
        "    for t2 in range(len(token2) + 1):\n",
        "        distances[0][t2] = t2\n",
        "\n",
        "    a = 0\n",
        "    b = 0\n",
        "    c = 0\n",
        "\n",
        "    for t1 in range(1, len(token1) + 1):\n",
        "        for t2 in range(1, len(token2) + 1):\n",
        "            if (token1[t1-1] == token2[t2-1]):\n",
        "                distances[t1][t2] = distances[t1 - 1][t2 - 1]\n",
        "            else:\n",
        "                a = distances[t1][t2 - 1]\n",
        "                b = distances[t1 - 1][t2]\n",
        "                c = distances[t1 - 1][t2 - 1]\n",
        "\n",
        "                if (a <= b and a <= c):\n",
        "                    distances[t1][t2] = a + 1\n",
        "                elif (b <= a and b <= c):\n",
        "                    distances[t1][t2] = b + 1\n",
        "                else:\n",
        "                    distances[t1][t2] = c + 1\n",
        "\n",
        "    return distances[len(token1)][len(token2)]\n",
        "\n",
        "assert levenshtein_distance(\"hi\", \"hello\") == 4\n",
        "print(levenshtein_distance(\"hola\", \"hello\"))"
      ],
      "metadata": {
        "colab": {
          "base_uri": "https://localhost:8080/"
        },
        "id": "79qAe89d4dhd",
        "outputId": "17678f3f-2e82-4bd8-ac56-54d67aa02e4e"
      },
      "execution_count": 25,
      "outputs": [
        {
          "output_type": "stream",
          "name": "stdout",
          "text": [
            "3\n"
          ]
        }
      ]
    },
    {
      "cell_type": "code",
      "source": [
        "# @title Question 5 A\n",
        "def check_the_number(N):\n",
        "  list_of_numbers = []\n",
        "  result = '' # Dòng này thừa\n",
        "  for i in range(1,5):\n",
        "    # Your code here\n",
        "    list_of_numbers.append(i)\n",
        "  if N in list_of_numbers:\n",
        "    results = 'True'\n",
        "  if N not in list_of_numbers:\n",
        "    results = 'False'\n",
        "  return results\n",
        "\n",
        "N = 7\n",
        "assert check_the_number(N) == 'False'\n",
        "N = 2\n",
        "results = check_the_number(N)\n",
        "print(results)"
      ],
      "metadata": {
        "colab": {
          "base_uri": "https://localhost:8080/"
        },
        "id": "gl4A_JZ24ds6",
        "outputId": "af8d9f88-f7e7-4f6b-c54b-9bb3abc326d5"
      },
      "execution_count": 30,
      "outputs": [
        {
          "output_type": "stream",
          "name": "stdout",
          "text": [
            "True\n"
          ]
        }
      ]
    },
    {
      "cell_type": "code",
      "source": [
        "# @title Question 6 D\n",
        "def my_function(data, max, min):\n",
        "  result = []\n",
        "  for i in data:\n",
        "    # Your code here\n",
        "    if i < min:\n",
        "      result.append(min)\n",
        "    elif i > max:\n",
        "      result.append(max)\n",
        "    else:\n",
        "      result.append(i)\n",
        "    return result\n",
        "\n",
        "my_list = [ 5, 2, 5, 0, 1]\n",
        "max = 1\n",
        "min = 0\n",
        "\n",
        "assert my_function(max = max, min= min, data = my_list) == [1, 1, 1, 0, 1]\n",
        "\n",
        "my_list = [10, 2, 5, 0, 1]\n",
        "max = 2\n",
        "min = 1\n",
        "print(my_function(max = max, min = min, data = my_list))"
      ],
      "metadata": {
        "colab": {
          "base_uri": "https://localhost:8080/",
          "height": 211
        },
        "id": "zyVFDPy64dxh",
        "outputId": "43dea71d-60ec-4c76-b095-3613268552d2"
      },
      "execution_count": 31,
      "outputs": [
        {
          "output_type": "error",
          "ename": "AssertionError",
          "evalue": "",
          "traceback": [
            "\u001b[0;31m---------------------------------------------------------------------------\u001b[0m",
            "\u001b[0;31mAssertionError\u001b[0m                            Traceback (most recent call last)",
            "\u001b[0;32m<ipython-input-31-1205ba0c25fc>\u001b[0m in \u001b[0;36m<cell line: 18>\u001b[0;34m()\u001b[0m\n\u001b[1;32m     16\u001b[0m \u001b[0mmin\u001b[0m \u001b[0;34m=\u001b[0m \u001b[0;36m0\u001b[0m\u001b[0;34m\u001b[0m\u001b[0;34m\u001b[0m\u001b[0m\n\u001b[1;32m     17\u001b[0m \u001b[0;34m\u001b[0m\u001b[0m\n\u001b[0;32m---> 18\u001b[0;31m \u001b[0;32massert\u001b[0m \u001b[0mmy_function\u001b[0m\u001b[0;34m(\u001b[0m\u001b[0mmax\u001b[0m \u001b[0;34m=\u001b[0m \u001b[0mmax\u001b[0m\u001b[0;34m,\u001b[0m \u001b[0mmin\u001b[0m\u001b[0;34m=\u001b[0m \u001b[0mmin\u001b[0m\u001b[0;34m,\u001b[0m \u001b[0mdata\u001b[0m \u001b[0;34m=\u001b[0m \u001b[0mmy_list\u001b[0m\u001b[0;34m)\u001b[0m \u001b[0;34m==\u001b[0m \u001b[0;34m[\u001b[0m\u001b[0;36m1\u001b[0m\u001b[0;34m,\u001b[0m \u001b[0;36m1\u001b[0m\u001b[0;34m,\u001b[0m \u001b[0;36m1\u001b[0m\u001b[0;34m,\u001b[0m \u001b[0;36m0\u001b[0m\u001b[0;34m,\u001b[0m \u001b[0;36m1\u001b[0m\u001b[0;34m]\u001b[0m\u001b[0;34m\u001b[0m\u001b[0;34m\u001b[0m\u001b[0m\n\u001b[0m\u001b[1;32m     19\u001b[0m \u001b[0;34m\u001b[0m\u001b[0m\n\u001b[1;32m     20\u001b[0m \u001b[0mmy_list\u001b[0m \u001b[0;34m=\u001b[0m \u001b[0;34m[\u001b[0m\u001b[0;36m10\u001b[0m\u001b[0;34m,\u001b[0m \u001b[0;36m2\u001b[0m\u001b[0;34m,\u001b[0m \u001b[0;36m5\u001b[0m\u001b[0;34m,\u001b[0m \u001b[0;36m0\u001b[0m\u001b[0;34m,\u001b[0m \u001b[0;36m1\u001b[0m\u001b[0;34m]\u001b[0m\u001b[0;34m\u001b[0m\u001b[0;34m\u001b[0m\u001b[0m\n",
            "\u001b[0;31mAssertionError\u001b[0m: "
          ]
        }
      ]
    },
    {
      "cell_type": "code",
      "source": [
        "# @title Question 7 A\n",
        "def my_function(x,y):\n",
        "  # Your code here\n",
        "  x.extend(y)\n",
        "  return x\n",
        "\n",
        "list_num1 = ['a', 2, 5]\n",
        "list_num2 = [1, 1]\n",
        "list_num3 = [0, 0]\n",
        "\n",
        "assert my_function(list_num1, my_function(list_num2, list_num3)) == ['a', 2, 5, 1, 1, 0, 0]\n",
        "\n",
        "list_num1 = [1, 2]\n",
        "list_num2 = [3, 4]\n",
        "list_num3 = [0, 0]\n",
        "\n",
        "print(my_function(list_num1, my_function(list_num2, list_num3)))"
      ],
      "metadata": {
        "colab": {
          "base_uri": "https://localhost:8080/"
        },
        "id": "SYuqaq-Z4d2P",
        "outputId": "ab597316-2071-4912-d12a-0f8427f962f0"
      },
      "execution_count": 32,
      "outputs": [
        {
          "output_type": "stream",
          "name": "stdout",
          "text": [
            "[1, 2, 3, 4, 0, 0]\n"
          ]
        }
      ]
    },
    {
      "cell_type": "code",
      "source": [
        "# @title Question 8 C\n",
        "def my_function(n):\n",
        "  # Your code here\n",
        "  result = min(n)\n",
        "  return result\n",
        "\n",
        "my_list = [1, 22, 93, -100]\n",
        "assert my_function(my_list) == -100\n",
        "\n",
        "my_list = [1, 2, 3, -1]\n",
        "print(my_function(my_list))"
      ],
      "metadata": {
        "colab": {
          "base_uri": "https://localhost:8080/"
        },
        "id": "gFG1ftXt4d7o",
        "outputId": "f54bec85-31d6-4c65-e5c2-a7ca481612e5"
      },
      "execution_count": 2,
      "outputs": [
        {
          "output_type": "stream",
          "name": "stdout",
          "text": [
            "-1\n"
          ]
        }
      ]
    },
    {
      "cell_type": "code",
      "source": [
        "# @title Question 9 D\n",
        "def my_function(n):\n",
        "  result = max(n)\n",
        "  return result\n",
        "\n",
        "my_list = [1001, 9, 100, 0]\n",
        "assert my_function(my_list) == 1001\n",
        "\n",
        "my_list = [1, 9, 9, 0]\n",
        "print(my_function(my_list))"
      ],
      "metadata": {
        "colab": {
          "base_uri": "https://localhost:8080/"
        },
        "id": "ZmBSHC8SbwKL",
        "outputId": "3ebb9132-8c18-4057-bf52-ef69b2e3f5c1"
      },
      "execution_count": 3,
      "outputs": [
        {
          "output_type": "stream",
          "name": "stdout",
          "text": [
            "9\n"
          ]
        }
      ]
    },
    {
      "cell_type": "code",
      "source": [
        "# @title Question 10 C\n",
        "def My_function(integers, number =1):\n",
        "  return any(\n",
        "    # Your code here: Thực hiện duyệt từng phần tử trong integers, so sánh từng phần tử với number,\n",
        "    # nếu bằng nhau trả về True, khác nhau trả về False\n",
        "    x == number for x in integers\n",
        "  )\n",
        "my_list = [1, 3, 9, 4]\n",
        "assert My_function(my_list, -1) == False\n",
        "\n",
        "my_list = [1, 2, 3, 4]\n",
        "print(My_function(my_list, 2))"
      ],
      "metadata": {
        "colab": {
          "base_uri": "https://localhost:8080/"
        },
        "id": "j5LXZ-78bwi0",
        "outputId": "8665b42b-2890-40ee-ca2b-613dcf7b232e"
      },
      "execution_count": 6,
      "outputs": [
        {
          "output_type": "stream",
          "name": "stdout",
          "text": [
            "True\n"
          ]
        }
      ]
    },
    {
      "cell_type": "markdown",
      "source": [
        "Your code here: Thực hiện duyệt từng phần tử trong integers,so sánh từng phần tử với so sanh\n",
        "tung phan tu voi number , neu bang nhau tra ve True , khac nhau tra ve false\n",
        "3 #vi du: integers = [1 , 2 , 3] , number = 2 , ban se tao ra list [False ,\n",
        "True , False ]"
      ],
      "metadata": {
        "id": "k1tcFHhZe4pY"
      }
    },
    {
      "cell_type": "code",
      "source": [
        "# @title Question 11 A\n",
        "def my_function(list_nums = [0, 1, 2]):\n",
        "  var = 0\n",
        "  for i in list_nums:\n",
        "    var += i\n",
        "  return var/(len(list_nums))\n",
        "\n",
        "assert my_function([4,6,8]) == 6\n",
        "print(my_function())"
      ],
      "metadata": {
        "colab": {
          "base_uri": "https://localhost:8080/"
        },
        "id": "lNn5Kndnbwng",
        "outputId": "40f41738-7224-4b4b-98b4-c37cd8304829"
      },
      "execution_count": 16,
      "outputs": [
        {
          "output_type": "stream",
          "name": "stdout",
          "text": [
            "1.0\n"
          ]
        }
      ]
    },
    {
      "cell_type": "code",
      "source": [
        "# @title Question 12 A\n",
        "def my_function(data):\n",
        "  var = []\n",
        "  for i in data:\n",
        "    if i%3 ==0:\n",
        "      var.append(i)\n",
        "  return var\n",
        "\n",
        "assert my_function([3, 9, 4, 5]) == [3, 9]\n",
        "print(my_function([1, 2, 3, 5, 6]))"
      ],
      "metadata": {
        "colab": {
          "base_uri": "https://localhost:8080/"
        },
        "id": "_qGT1yuRbwtL",
        "outputId": "839065ea-4286-4e11-aebb-6e3d9b6a6ab3"
      },
      "execution_count": 18,
      "outputs": [
        {
          "output_type": "stream",
          "name": "stdout",
          "text": [
            "[3, 6]\n"
          ]
        }
      ]
    },
    {
      "cell_type": "code",
      "source": [
        "# @title Question 13 C\n",
        "def my_function(y):\n",
        "  var = 1\n",
        "  i = 1\n",
        "  while (y > 1):\n",
        "    var *= i\n",
        "    i += 1\n",
        "    if i > y:\n",
        "      break\n",
        "  return var\n",
        "\n",
        "assert my_function(8) == 40320\n",
        "print(my_function(4))"
      ],
      "metadata": {
        "colab": {
          "base_uri": "https://localhost:8080/"
        },
        "id": "l5a0-HMSb5A_",
        "outputId": "11ae09b8-dc66-46e7-8433-5d4918bbdce9"
      },
      "execution_count": 11,
      "outputs": [
        {
          "output_type": "stream",
          "name": "stdout",
          "text": [
            "24\n"
          ]
        }
      ]
    },
    {
      "cell_type": "code",
      "source": [
        "# @title Question 14 B\n",
        "def my_function(x):\n",
        "  # Your code here\n",
        "  result = x[::-1]\n",
        "  return result\n",
        "\n",
        "x = 'I can do it'\n",
        "assert my_function(x) == 'ti od nac I'\n",
        "\n",
        "x = 'apricot'\n",
        "print(my_function(x))"
      ],
      "metadata": {
        "colab": {
          "base_uri": "https://localhost:8080/"
        },
        "id": "jwhGJVItb5Fj",
        "outputId": "7ab22092-478d-48d3-e0aa-b2a79918faf3"
      },
      "execution_count": 16,
      "outputs": [
        {
          "output_type": "stream",
          "name": "stdout",
          "text": [
            "tocirpa\n"
          ]
        }
      ]
    },
    {
      "cell_type": "code",
      "source": [
        "# @title Question 15 C\n",
        "def function_helper(x):\n",
        "  # Your code here\n",
        "  if x > 0:\n",
        "    return 'T'\n",
        "  else:\n",
        "    return 'N'\n",
        "\n",
        "def my_function(data):\n",
        "  res = [function_helper(x) for x in data]\n",
        "  return res\n",
        "\n",
        "data = [10, 0, -10, -1]\n",
        "assert my_function(data) == ['T', 'N', 'N', 'N']\n",
        "\n",
        "data = [2, 3, 5, -1]\n",
        "print(my_function(data))"
      ],
      "metadata": {
        "colab": {
          "base_uri": "https://localhost:8080/"
        },
        "id": "FisoPAkQb5K5",
        "outputId": "2e74f43d-c54a-4386-dd68-504730063fed"
      },
      "execution_count": 17,
      "outputs": [
        {
          "output_type": "stream",
          "name": "stdout",
          "text": [
            "['T', 'T', 'T', 'N']\n"
          ]
        }
      ]
    },
    {
      "cell_type": "code",
      "source": [
        "# @title Question 16 A\n",
        "def function_helper(x, data):\n",
        "  for i in data:\n",
        "    # Your code here\n",
        "    if x == i:\n",
        "      return 0\n",
        "  return 1\n",
        "\n",
        "def my_function(data):\n",
        "  res = []\n",
        "  for i in data:\n",
        "    if function_helper(i, res):\n",
        "      res.append(i)\n",
        "\n",
        "  return res\n",
        "\n",
        "lst = [10, 10, 9, 7, 7]\n",
        "assert my_function(lst) == [10, 9, 7]\n",
        "\n",
        "lst = [9, 9, 8, 1, 1]\n",
        "print(my_function(lst))"
      ],
      "metadata": {
        "colab": {
          "base_uri": "https://localhost:8080/"
        },
        "id": "f2bLopqUb5Re",
        "outputId": "4ce9165d-f174-4333-fd14-eb3368d85e9b"
      },
      "execution_count": 19,
      "outputs": [
        {
          "output_type": "stream",
          "name": "stdout",
          "text": [
            "[9, 8, 1]\n"
          ]
        }
      ]
    }
  ]
}