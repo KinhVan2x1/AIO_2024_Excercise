{
  "nbformat": 4,
  "nbformat_minor": 0,
  "metadata": {
    "colab": {
      "provenance": [],
      "authorship_tag": "ABX9TyPD2S5t6Wz29jloFG5YvEH1",
      "include_colab_link": true
    },
    "kernelspec": {
      "name": "python3",
      "display_name": "Python 3"
    },
    "language_info": {
      "name": "python"
    }
  },
  "cells": [
    {
      "cell_type": "markdown",
      "metadata": {
        "id": "view-in-github",
        "colab_type": "text"
      },
      "source": [
        "<a href=\"https://colab.research.google.com/github/KinhVan2x1/AIO_2024_Excercise/blob/feature/Week3_homework_AIO.ipynb\" target=\"_parent\"><img src=\"https://colab.research.google.com/assets/colab-badge.svg\" alt=\"Open In Colab\"/></a>"
      ]
    },
    {
      "cell_type": "markdown",
      "source": [
        "## BÀI TẬP TỰ LUẬN ##"
      ],
      "metadata": {
        "id": "2u-5LyswOauA"
      }
    },
    {
      "cell_type": "code",
      "execution_count": 32,
      "metadata": {
        "id": "vXLS09BwOU1S",
        "colab": {
          "base_uri": "https://localhost:8080/"
        },
        "outputId": "1d490d46-db17-4a1d-da81-d28345503d35"
      },
      "outputs": [
        {
          "output_type": "stream",
          "name": "stdout",
          "text": [
            "tensor([0.0900, 0.2447, 0.6652])\n",
            "tensor([0.0900, 0.2447, 0.6652])\n"
          ]
        }
      ],
      "source": [
        "# @title Exercise 1\n",
        "import torch\n",
        "import torch.nn as nn\n",
        "\n",
        "class SoftMax(nn.Module):\n",
        "  def __init__(self):\n",
        "    super().__init__()\n",
        "\n",
        "  def forward(self, x):\n",
        "    return torch.exp(x) / torch.sum(torch.exp(x), dim=0)\n",
        "\n",
        "\n",
        "data = torch.Tensor([1,2,3])\n",
        "softmax = SoftMax()\n",
        "output = softmax(data)\n",
        "print(output)\n",
        "\n",
        "class SoftMaxStable(nn.Module):\n",
        "  def __init__(self):\n",
        "    super().__init__()\n",
        "\n",
        "  def forward(self, x):\n",
        "    x_max = torch.max(x, dim = 0, keepdims = True)\n",
        "    x_exp = torch.exp(x - x_max.values)\n",
        "    partition = x_exp.sum(dim = 0, keepdims = True)\n",
        "    return x_exp / partition\n",
        "\n",
        "data = torch. Tensor([1, 2, 3])\n",
        "softmax_stable = SoftMaxStable()\n",
        "output = softmax_stable(data)\n",
        "print(output)\n",
        "\n"
      ]
    },
    {
      "cell_type": "code",
      "source": [
        "# @title Exercise 2\n",
        "from abc import ABC, abstractmethod\n",
        "\n",
        "class Person(ABC):\n",
        "    def __init__(self, name: str, yob: int):\n",
        "        self.name = name\n",
        "        self.yob = yob\n",
        "\n",
        "    def get_age(self):\n",
        "        return 2024 - self.yob\n",
        "\n",
        "    @abstractmethod\n",
        "    def describe(self):\n",
        "        pass\n",
        "\n",
        "    @abstractmethod\n",
        "    def get_name(self):\n",
        "        pass\n",
        "\n",
        "# Create Student class\n",
        "class Student(Person):\n",
        "    def __init__(self, name, yob, grade: str):\n",
        "        super().__init__(name, yob)\n",
        "        self.grade = grade\n",
        "        self.job = 'Student'\n",
        "\n",
        "    def get_name(self):\n",
        "        return self.name\n",
        "\n",
        "    def describe(self):\n",
        "        print(f'Student - Name: {self.name}, YOB: {self.yob}, Grade: {self.grade}')\n",
        "\n",
        "# Create Teacher class\n",
        "class Teacher(Person):\n",
        "    def __init__(self, name, yob, subject: str):\n",
        "        super().__init__(name, yob)\n",
        "        self.subject = subject\n",
        "        self.job = 'Teacher'\n",
        "\n",
        "    def get_name(self):\n",
        "        return self.name\n",
        "\n",
        "    def describe(self):\n",
        "        print(f'Teacher - Name: {self.name}, YOB: {self.yob}, Subject: {self.subject}')\n",
        "\n",
        "# Create Doctor class\n",
        "class Doctor(Person):\n",
        "    def __init__(self, name, yob, specialist: str):\n",
        "        super().__init__(name, yob)\n",
        "        self.specialist = specialist\n",
        "        self.job = 'Doctor'\n",
        "\n",
        "    def get_name(self):\n",
        "        return self.name\n",
        "\n",
        "    def describe(self):\n",
        "        print(f'Doctor - Name: {self.name}, YOB: {self.yob}, Specialist: {self.specialist}')\n",
        "\n",
        "# Create Ward class\n",
        "class Ward:\n",
        "    def __init__(self, name):\n",
        "        self.name = name\n",
        "        self.list_of_person = []\n",
        "\n",
        "    # Create add_person method\n",
        "    def add_person(self, person):\n",
        "        person_info = {\n",
        "            'Job': person.job,\n",
        "            'Age': person.get_age(),\n",
        "            'Name': person.get_name()\n",
        "        }\n",
        "        if isinstance(person, Student):\n",
        "            person_info['Grade'] = person.grade\n",
        "        elif isinstance(person, Teacher):\n",
        "            person_info['Subject'] = person.subject\n",
        "        elif isinstance(person, Doctor):\n",
        "            person_info['Specialist'] = person.specialist\n",
        "        self.list_of_person.append(person_info)\n",
        "\n",
        "    # Create describe method\n",
        "    def describe(self):\n",
        "        for person_info in self.list_of_person:\n",
        "            print(person_info)\n",
        "\n",
        "    # Create count_doctor method\n",
        "    def count_doctor(self):\n",
        "        count = 0\n",
        "        for person_info in self.list_of_person:\n",
        "            if person_info['Job'] == 'Doctor':\n",
        "                count += 1\n",
        "        return count\n",
        "\n",
        "    # Create sort_age() method\n",
        "    def sort_age(self):\n",
        "        self.list_of_person.sort(key=lambda x: x['Age'])\n",
        "\n",
        "    # Create compute_average() method\n",
        "    def compute_average(self):\n",
        "        if not self.list_of_person:\n",
        "            return 0\n",
        "        total_age = sum(person['Age'] for person in self.list_of_person)\n",
        "        return total_age / len(self.list_of_person)\n",
        "\n",
        "# Test case\n",
        "student = Student('John', 2000, 'A')\n",
        "student.describe()\n",
        "\n",
        "teacher = Teacher('Jane', 1980, 'Math')\n",
        "teacher.describe()\n",
        "\n",
        "doctor = Doctor('Michael', 1975, 'Cardiology')\n",
        "doctor.describe()\n",
        "\n",
        "ward = Ward(name='Ward_1')\n",
        "ward.add_person(student)\n",
        "ward.add_person(teacher)\n",
        "ward.add_person(doctor)\n",
        "\n",
        "ward.describe()\n",
        "print(\"Number of doctors:\", ward.count_doctor())\n",
        "\n",
        "ward.sort_age()\n",
        "print(\"Sorted by age:\")\n",
        "ward.describe()\n",
        "\n",
        "print(\"Average age:\", ward.compute_average())\n"
      ],
      "metadata": {
        "colab": {
          "base_uri": "https://localhost:8080/"
        },
        "id": "5b5eFfO4B5Xw",
        "outputId": "fe6ac07e-c33c-4ad2-9570-b6e19aea56f7"
      },
      "execution_count": null,
      "outputs": [
        {
          "output_type": "stream",
          "name": "stdout",
          "text": [
            "Student - Name: John, YOB: 2000, Grade: A\n",
            "Teacher - Name: Jane, YOB: 1980, Subject: Math\n",
            "Doctor - Name: Michael, YOB: 1975, Specialist: Cardiology\n",
            "{'Job': 'Student', 'Age': 24, 'Name': 'John', 'Grade': 'A'}\n",
            "{'Job': 'Teacher', 'Age': 44, 'Name': 'Jane', 'Subject': 'Math'}\n",
            "{'Job': 'Doctor', 'Age': 49, 'Name': 'Michael', 'Specialist': 'Cardiology'}\n",
            "Number of doctors: 1\n",
            "Sorted by age:\n",
            "{'Job': 'Student', 'Age': 24, 'Name': 'John', 'Grade': 'A'}\n",
            "{'Job': 'Teacher', 'Age': 44, 'Name': 'Jane', 'Subject': 'Math'}\n",
            "{'Job': 'Doctor', 'Age': 49, 'Name': 'Michael', 'Specialist': 'Cardiology'}\n",
            "Average age: 39.0\n"
          ]
        }
      ]
    },
    {
      "cell_type": "code",
      "source": [
        "from abc import ABC, abstractmethod\n",
        "\n",
        "# Create Person class\n",
        "class Person(ABC):\n",
        "    def __init__(self, name: str, yob: int):\n",
        "        self.name = name\n",
        "        self.yob = yob\n",
        "\n",
        "    def get_age(self):\n",
        "        return 2024 - self.yob\n",
        "\n",
        "    def get_name(self):\n",
        "        return self.name\n",
        "\n",
        "    @abstractmethod\n",
        "    def describe(self):\n",
        "        pass\n",
        "\n",
        "\n",
        "# Create Student class\n",
        "class Student(Person):\n",
        "    def __init__(self, name, yob, grade: str):\n",
        "        super().__init__(name, yob)\n",
        "        self.grade = grade\n",
        "        self.job = 'Student'\n",
        "\n",
        "    def describe(self):\n",
        "        print(f'Student - Name: {self.name}, YOB: {self.yob}, Grade: {self.grade}')\n",
        "\n",
        "# Create Teacher class\n",
        "class Teacher(Person):\n",
        "    def __init__(self, name, yob, subject: str):\n",
        "        super().__init__(name, yob)\n",
        "        self.subject = subject\n",
        "        self.job = 'Teacher'\n",
        "\n",
        "    def describe(self):\n",
        "        print(f'Teacher - Name: {self.name}, YOB: {self.yob}, Subject: {self.subject}')\n",
        "\n",
        "# Create Doctor class\n",
        "class Doctor(Person):\n",
        "    def __init__(self, name, yob, specialist: str):\n",
        "        super().__init__(name, yob)\n",
        "        self.specialist = specialist\n",
        "        self.job = 'Doctor'\n",
        "\n",
        "    def describe(self):\n",
        "        print(f'Doctor - Name: {self.name}, YOB: {self.yob}, Specialist: {self.specialist}')\n",
        "\n",
        "# Create Ward class\n",
        "class Ward:\n",
        "    def __init__(self, name):\n",
        "        self.name = name\n",
        "        self.list_of_person = []\n",
        "\n",
        "    # Create add_person method\n",
        "    def add_person(self, person):\n",
        "        person_info = {\n",
        "            'Job': person.job,\n",
        "            'Age': person.get_age(),\n",
        "            'Name': person.get_name()\n",
        "        }\n",
        "        if isinstance(person, Student):\n",
        "            person_info['Grade'] = person.grade\n",
        "        elif isinstance(person, Teacher):\n",
        "            person_info['Subject'] = person.subject\n",
        "        elif isinstance(person, Doctor):\n",
        "            person_info['Specialist'] = person.specialist\n",
        "        self.list_of_person.append(person_info)\n",
        "\n",
        "    # Create describe method\n",
        "    def describe(self):\n",
        "        for person_info in self.list_of_person:\n",
        "            print(person_info)\n",
        "\n",
        "    # Create count_doctor method\n",
        "    def count_doctor(self):\n",
        "        count = 0\n",
        "        for person_info in self.list_of_person:\n",
        "            if person_info['Job'] == 'Doctor':\n",
        "                count += 1\n",
        "        return count\n",
        "\n",
        "    # Create sort_age() method\n",
        "    def sort_age(self):\n",
        "        self.list_of_person.sort(key=lambda x: x['Age'])\n",
        "\n",
        "    # Create compute_average() method\n",
        "    def compute_average(self):\n",
        "        if not self.list_of_person:\n",
        "            return 0\n",
        "        total_age = sum(person['Age'] for person in self.list_of_person)\n",
        "        return total_age / len(self.list_of_person)\n",
        "\n",
        "# Test case\n",
        "student = Student('John', 2000, 'A')\n",
        "student.describe()\n",
        "\n",
        "teacher = Teacher('Jane', 1980, 'Math')\n",
        "teacher.describe()\n",
        "\n",
        "doctor = Doctor('Michael', 1975, 'Cardiology')\n",
        "doctor.describe()\n",
        "\n",
        "ward = Ward(name='Ward_1')\n",
        "ward.add_person(student)\n",
        "ward.add_person(teacher)\n",
        "ward.add_person(doctor)\n",
        "\n",
        "ward.describe()\n",
        "print(\"Number of doctors:\", ward.count_doctor())\n",
        "\n",
        "ward.sort_age()\n",
        "print(\"Sorted by age:\")\n",
        "ward.describe()\n",
        "\n",
        "print(\"Average age:\", ward.compute_average())\n"
      ],
      "metadata": {
        "colab": {
          "base_uri": "https://localhost:8080/"
        },
        "id": "_AuqWDJAFSKn",
        "outputId": "469cb075-09b0-4189-c30d-f45e5b084f77"
      },
      "execution_count": null,
      "outputs": [
        {
          "output_type": "stream",
          "name": "stdout",
          "text": [
            "Student - Name: John, YOB: 2000, Grade: A\n",
            "Teacher - Name: Jane, YOB: 1980, Subject: Math\n",
            "Doctor - Name: Michael, YOB: 1975, Specialist: Cardiology\n",
            "{'Job': 'Student', 'Age': 24, 'Name': 'John', 'Grade': 'A'}\n",
            "{'Job': 'Teacher', 'Age': 44, 'Name': 'Jane', 'Subject': 'Math'}\n",
            "{'Job': 'Doctor', 'Age': 49, 'Name': 'Michael', 'Specialist': 'Cardiology'}\n",
            "Number of doctors: 1\n",
            "Sorted by age:\n",
            "{'Job': 'Student', 'Age': 24, 'Name': 'John', 'Grade': 'A'}\n",
            "{'Job': 'Teacher', 'Age': 44, 'Name': 'Jane', 'Subject': 'Math'}\n",
            "{'Job': 'Doctor', 'Age': 49, 'Name': 'Michael', 'Specialist': 'Cardiology'}\n",
            "Average age: 39.0\n"
          ]
        }
      ]
    },
    {
      "cell_type": "code",
      "source": [
        "# @title Exercise 3\n",
        "class MyStack:\n",
        "  # Initializer\n",
        "  def __init__(self, capacity):\n",
        "    self.__capacity = capacity\n",
        "    self.__stack = list()\n",
        "\n",
        "  # Create is_full() method\n",
        "  def is_full(self):\n",
        "    return len(self.__stack) == self.__capacity\n",
        "\n",
        "  # Create is_empty() method\n",
        "  def is_empty(self):\n",
        "    return len(self.__stack) == 0\n",
        "\n",
        "  # Create push() method\n",
        "  def  push(self, value):\n",
        "    if not self.is_full():\n",
        "      self.__stack.append(value)\n",
        "\n",
        "  # Create top() method\n",
        "  def top(self):\n",
        "    if not self.is_empty():\n",
        "      return self.__stack[-1]\n",
        "\n",
        "  # Create pop(0) method\n",
        "  def pop(self):\n",
        "    if not self.is_empty():\n",
        "      return self.__stack.pop(0)\n",
        "\n",
        "# Test case\n",
        "stack1 = MyStack(capacity =5)\n",
        "stack1.push(1)\n",
        "stack1.push(2)"
      ],
      "metadata": {
        "id": "qNb4aMdQ6tZD"
      },
      "execution_count": 23,
      "outputs": []
    },
    {
      "cell_type": "code",
      "source": [
        "# @title Exercise 4\n",
        "class MyQueue:\n",
        "  def __init__(self, capacity):\n",
        "    self.__capacity = capacity\n",
        "    self.__queue = list()\n",
        "\n",
        "  # Create is_empty() method\n",
        "  def is_empty(self):\n",
        "    return len(self.__queue) == 0\n",
        "\n",
        "  # Create is_full() method\n",
        "  def is_full(self):\n",
        "    return len(self.__queue) == self.__capacity\n",
        "\n",
        "  # Create enqueue() method\n",
        "  def enqueue(self, value):\n",
        "    if not self.is_full():\n",
        "      self.__queue.append(value)\n",
        "\n",
        "  # Create dequeue() method\n",
        "  def dequeue(self):\n",
        "    if not self.is_empty():\n",
        "      return self.__queue.pop(0)\n",
        "\n",
        "  # Create front() method\n",
        "  def front(self):\n",
        "    if not self.is_empty():\n",
        "      return self.__queue[0]\n",
        "\n",
        "# Test case\n",
        "queue1 = MyQueue(capacity =5)\n",
        "queue1.enqueue(1)\n",
        "queue1.enqueue(2)\n",
        "\n",
        "print(queue1.is_full())\n",
        "print(queue1.front())"
      ],
      "metadata": {
        "colab": {
          "base_uri": "https://localhost:8080/"
        },
        "id": "ZT1BGOt-72cp",
        "outputId": "22455acb-6b48-453a-ca52-a6818d5f7b37"
      },
      "execution_count": 26,
      "outputs": [
        {
          "output_type": "stream",
          "name": "stdout",
          "text": [
            "False\n",
            "1\n"
          ]
        }
      ]
    },
    {
      "cell_type": "markdown",
      "source": [
        "# CÂU HỎI TRẮC NGHIỆM #"
      ],
      "metadata": {
        "id": "116qXEzCaUxs"
      }
    },
    {
      "cell_type": "code",
      "source": [
        "# @title Question 1 C\n",
        "import torch\n",
        "import torch.nn as nn\n",
        "\n",
        "data = torch.Tensor([1,2,3])\n",
        "softmax_function = nn.Softmax(dim=0)\n",
        "output = softmax_function(data)\n",
        "assert round(output[0].item(), 2) == 0.09\n",
        "print(output)"
      ],
      "metadata": {
        "colab": {
          "base_uri": "https://localhost:8080/"
        },
        "id": "ezjhJ1vqaZf4",
        "outputId": "2ca1cf91-c640-400e-c650-3bd9e14daf9a"
      },
      "execution_count": null,
      "outputs": [
        {
          "output_type": "stream",
          "name": "stdout",
          "text": [
            "tensor([0.0900, 0.2447, 0.6652])\n"
          ]
        }
      ]
    },
    {
      "cell_type": "code",
      "source": [
        "# @title Question 2 B\n",
        "import torch\n",
        "import torch.nn as nn\n",
        "\n",
        "class MySoftMax(nn.Module):\n",
        "    def __init__(self):\n",
        "      super().__init__()\n",
        "\n",
        "    def forward(self, x):\n",
        "      # Your code here\n",
        "      return torch.exp(x) / torch.sum(torch.exp(x), dim=0)\n",
        "      # End code here\n",
        "\n",
        "data = torch.Tensor([5, 2, 4])\n",
        "my_softmax = MySoftMax()\n",
        "output = my_softmax(data)\n",
        "print(output)"
      ],
      "metadata": {
        "colab": {
          "base_uri": "https://localhost:8080/"
        },
        "id": "R4GuX4J9a9Va",
        "outputId": "a20cd4fc-64ab-4cc4-86fd-9c35775c0bad"
      },
      "execution_count": null,
      "outputs": [
        {
          "output_type": "stream",
          "name": "stdout",
          "text": [
            "tensor([0.7054, 0.0351, 0.2595])\n"
          ]
        }
      ]
    },
    {
      "cell_type": "code",
      "source": [
        "# @title Question 3 C\n",
        "import torch\n",
        "import torch.nn as nn\n",
        "\n",
        "class MySoftMax(nn.Module):\n",
        "    def __init__(self):\n",
        "        super().__init__()\n",
        "    def forward(self, x):\n",
        "        # Your code here\n",
        "        return torch.exp(x) / torch.sum(torch.exp(x), dim=0)\n",
        "        # End code here\n",
        "\n",
        "data = torch.Tensor([1,2, 300000000])\n",
        "my_softmax = MySoftMax()\n",
        "output = my_softmax(data)\n",
        "print(output)"
      ],
      "metadata": {
        "colab": {
          "base_uri": "https://localhost:8080/"
        },
        "id": "Ayh7pzg2dAja",
        "outputId": "33db2c7c-315e-41fc-8d7f-f2467947baf6"
      },
      "execution_count": null,
      "outputs": [
        {
          "output_type": "stream",
          "name": "stdout",
          "text": [
            "tensor([0., 0., nan])\n"
          ]
        }
      ]
    },
    {
      "cell_type": "code",
      "source": [
        "# @title Question 4 B\n",
        "import torch\n",
        "import torch.nn as nn\n",
        "\n",
        "class SoftMaxStable(nn.Module):\n",
        "  def __init__(self):\n",
        "    super().__init__()\n",
        "\n",
        "  def forward(self, x):\n",
        "    x_max = torch.max(x, dim = 0, keepdims = True)\n",
        "    x_exp = torch.exp(x - x_max.values)\n",
        "    partition = x_exp.sum(dim = 0, keepdims = True)\n",
        "    return x_exp / partition\n",
        "\n",
        "data = torch. Tensor([1, 2, 3])\n",
        "softmax_stable = SoftMaxStable()\n",
        "output = softmax_stable(data)\n",
        "print(output)\n"
      ],
      "metadata": {
        "colab": {
          "base_uri": "https://localhost:8080/"
        },
        "id": "T7SVhQlHdxgn",
        "outputId": "b7ef4c50-e9cb-4f4d-f7b3-ea33c7aecf23"
      },
      "execution_count": null,
      "outputs": [
        {
          "output_type": "stream",
          "name": "stdout",
          "text": [
            "tensor([0.0900, 0.2447, 0.6652])\n"
          ]
        }
      ]
    },
    {
      "cell_type": "code",
      "source": [
        "# @title Question 5 A\n",
        "from abc import ABC, abstractmethod\n",
        "\n",
        "class Person(ABC):\n",
        "  def __init__(self, name: str, yob: int):\n",
        "    self._name = name\n",
        "    self._yob = yob\n",
        "\n",
        "  def get_yob(self):\n",
        "    return self._yob\n",
        "\n",
        "  @abstractmethod\n",
        "  def describe(self):\n",
        "    pass\n",
        "\n",
        "class Student(Person):\n",
        "  def __init__(self, name: str, yob: int, grade: str):\n",
        "    super().__init__(name, yob)\n",
        "    self._grade = grade\n",
        "\n",
        "  def describe(self):\n",
        "    print(f'Student - Name: {self._name}, YOB: {self._yob}, Grade: {self._grade}')\n",
        "\n",
        "student1 = Student(name=\"studentZ2023\", yob =2011 , grade= \"6\")\n",
        "assert student1._yob == 2011\n",
        "student1.describe()"
      ],
      "metadata": {
        "colab": {
          "base_uri": "https://localhost:8080/"
        },
        "id": "jHyjchDyJCvn",
        "outputId": "2af97cf2-0132-4c4d-f102-aa2e4435ee93"
      },
      "execution_count": 8,
      "outputs": [
        {
          "output_type": "stream",
          "name": "stdout",
          "text": [
            "Student - Name: studentZ2023, YOB: 2011, Grade: 6\n"
          ]
        }
      ]
    },
    {
      "cell_type": "code",
      "source": [
        "# @title Question 6 B\n",
        "from abc import ABC, abstractmethod\n",
        "\n",
        "class Person(ABC):\n",
        "  def __init__(self, name: str, yob: int):\n",
        "    self._name = name\n",
        "    self._yob = yob\n",
        "\n",
        "  def get_yob(self):\n",
        "    return self._yob\n",
        "\n",
        "  @abstractmethod\n",
        "  def describe(self):\n",
        "    pass\n",
        "\n",
        "class Teacher(Person):\n",
        "  def __init__(self, name: str, yob: int, subject: str):\n",
        "    super().__init__(name, yob)\n",
        "    self._subject = subject\n",
        "\n",
        "  def describe(self):\n",
        "    print(f'Teacher - Name: {self._name}, YOB: {self._yob}, Subject: {self._subject}')\n",
        "\n",
        "teacher1 = Teacher(name=\"teacherZ2023\", yob =1991 , subject= \"History\")\n",
        "assert teacher1._yob == 1991\n",
        "teacher1.describe()\n"
      ],
      "metadata": {
        "colab": {
          "base_uri": "https://localhost:8080/"
        },
        "id": "C0NzC6tlKIKU",
        "outputId": "265a715d-0133-471d-d6da-8b34dea0f423"
      },
      "execution_count": 9,
      "outputs": [
        {
          "output_type": "stream",
          "name": "stdout",
          "text": [
            "Teacher - Name: teacherZ2023, YOB: 1991, Subject: History\n"
          ]
        }
      ]
    },
    {
      "cell_type": "code",
      "source": [
        "# @title Question 7 A\n",
        "from abc import ABC, abstractmethod\n",
        "\n",
        "class Person(ABC):\n",
        "  def __init__(self, name: str, yob: int):\n",
        "    self._name= name\n",
        "    self._yob = yob\n",
        "\n",
        "  def get_yob(self):\n",
        "    return self._yob\n",
        "class Doctor(Person):\n",
        "  def __init__(self, name: str, yob: int, specialist: str):\n",
        "    super().__init__(name, yob)\n",
        "    self._specialist = specialist\n",
        "\n",
        "  def describe(self):\n",
        "    print(f'Doctor - Name: {self._name}, YOB: {self._yob}, Specialist: {self._specialist}')\n",
        "\n",
        "doctor1 = Doctor(name=\"doctorZ2023\", yob =1981 , specialist= \"Endocrinologists\")\n",
        "assert doctor1._yob == 1981\n",
        "doctor1.describe()"
      ],
      "metadata": {
        "colab": {
          "base_uri": "https://localhost:8080/"
        },
        "id": "jqJelXfvMGHQ",
        "outputId": "b53dc052-f8b2-45b5-c5c9-34fa033fd60d"
      },
      "execution_count": 10,
      "outputs": [
        {
          "output_type": "stream",
          "name": "stdout",
          "text": [
            "Doctor - Name: doctorZ2023, YOB: 1981, Specialist: Endocrinologists\n"
          ]
        }
      ]
    },
    {
      "cell_type": "code",
      "source": [
        "# @title Question 8 C\n",
        "\n",
        "class Ward:\n",
        "  def __init__(self, name: str):\n",
        "    self.__name = name\n",
        "    self.__listPeople = list()\n",
        "\n",
        "  def add_person(self, person: Person):\n",
        "    self.__listPeople.append(person)\n",
        "\n",
        "  def describe(self):\n",
        "    print(f'Ward - Name: {self.__name}')\n",
        "    for person in self.__listPeople:\n",
        "      person.describe()\n",
        "\n",
        "  def count_doctor(self):\n",
        "    count = 0\n",
        "    for _ in self.__listPeople:\n",
        "        if isinstance(_, Doctor):\n",
        "            count += 1\n",
        "    return count\n",
        "\n",
        "student1 = Student( name =\" studentA \", yob =2010 , grade =\"7\")\n",
        "teacher1 = Teacher( name =\" teacherA \", yob =1969 , subject =\" Math \")\n",
        "teacher2 = Teacher( name =\" teacherB \", yob =1995 , subject =\" History \")\n",
        "doctor1 = Doctor( name =\" doctorA \", yob =1945 , specialist =\" Endocrinologists \")\n",
        "\n",
        "doctor2 = Doctor( name =\" doctorB \", yob =1975 , specialist =\" Cardiologists \")\n",
        "ward1 = Ward( name =\" Ward1 \")\n",
        "ward1.add_person( student1 )\n",
        "ward1.add_person( teacher1 )\n",
        "ward1.add_person( teacher2 )\n",
        "ward1.add_person( doctor1 )\n",
        "ward1.add_person( doctor2 )\n",
        "ward1.count_doctor()"
      ],
      "metadata": {
        "colab": {
          "base_uri": "https://localhost:8080/"
        },
        "id": "NBLWv__5yXuz",
        "outputId": "eb18812e-121d-45d2-9c01-63d27ba4a2db"
      },
      "execution_count": 13,
      "outputs": [
        {
          "output_type": "execute_result",
          "data": {
            "text/plain": [
              "2"
            ]
          },
          "metadata": {},
          "execution_count": 13
        }
      ]
    },
    {
      "cell_type": "code",
      "source": [
        "# @title Question 9 B\n",
        "class MyStack:\n",
        "  def __init__(self, capacity):\n",
        "    self.__capacity = capacity\n",
        "    self.__stack = []\n",
        "\n",
        "  def is_full(self):\n",
        "    return len(self.__stack) == self.__capacity\n",
        "\n",
        "  def push(self, item):\n",
        "    if not self.is_full():\n",
        "      self.__stack.append(item)\n",
        "    else:\n",
        "      print(\"Stack is full\")\n",
        "\n",
        "stack1 = MyStack(5)\n",
        "stack1.push(1)\n",
        "assert stack1.is_full() == False\n",
        "stack1.push(2)\n",
        "print(stack1.is_full())"
      ],
      "metadata": {
        "colab": {
          "base_uri": "https://localhost:8080/"
        },
        "id": "LMXohwO6zwho",
        "outputId": "928b8ef7-fb71-403e-c49d-baa296acfb83"
      },
      "execution_count": 15,
      "outputs": [
        {
          "output_type": "stream",
          "name": "stdout",
          "text": [
            "False\n"
          ]
        }
      ]
    },
    {
      "cell_type": "code",
      "source": [
        "# @title Question 10 B\n",
        "class MyStack:\n",
        "  def __init__(self, capacity) -> None:\n",
        "    self.__capacity = capacity\n",
        "    self.__stack = list()\n",
        "\n",
        "  def is_full(self):\n",
        "    return len(self.__stack) == self.__capacity\n",
        "\n",
        "  def push(self, value):\n",
        "    if not self.is_full():\n",
        "      self.__stack.append(value)\n",
        "    else:\n",
        "      print(\"Stack is full\")\n",
        "\n",
        "  def top(self):\n",
        "    if not self.__stack:\n",
        "      return None\n",
        "    return self.__stack[-1]\n",
        "\n",
        "# Test case\n",
        "stack1 = MyStack(5)\n",
        "stack1.push(1)\n",
        "assert stack1.is_full() == False\n",
        "stack1.push(2)\n",
        "print(stack1.top())"
      ],
      "metadata": {
        "colab": {
          "base_uri": "https://localhost:8080/"
        },
        "id": "UPwRU5R60UZK",
        "outputId": "032ddabc-dc79-4a43-d25a-db6ff8925c37"
      },
      "execution_count": 18,
      "outputs": [
        {
          "output_type": "stream",
          "name": "stdout",
          "text": [
            "2\n"
          ]
        }
      ]
    },
    {
      "cell_type": "code",
      "source": [
        "# @title Question 11 A\n",
        "class MyQueue:\n",
        "  def __init__(self, capacity):\n",
        "    self.__capacity = capacity\n",
        "    self.__queue = list()\n",
        "\n",
        "  def is_full(self):\n",
        "    return len(self.__queue) == self.__capacity\n",
        "\n",
        "  def enqueue(self, value):\n",
        "    if not self.is_full():\n",
        "      self.__queue.append(value)\n",
        "    else:\n",
        "      print(\"Queue is full\")\n",
        "\n",
        "# Test case\n",
        "queue1 = MyQueue(5)\n",
        "queue1.enqueue(1)\n",
        "assert queue1.is_full() == False\n",
        "queue1.enqueue(2)\n",
        "print(queue1.is_full())"
      ],
      "metadata": {
        "colab": {
          "base_uri": "https://localhost:8080/"
        },
        "id": "9C8IJqLS1VKC",
        "outputId": "68efc4f1-a930-416c-c16a-92e08eb63a16"
      },
      "execution_count": 19,
      "outputs": [
        {
          "output_type": "stream",
          "name": "stdout",
          "text": [
            "False\n"
          ]
        }
      ]
    },
    {
      "cell_type": "code",
      "source": [
        "# @title Question 12 D\n",
        "class MyQueue:\n",
        "  def __init__(self, capacity):\n",
        "    self.__capacity = capacity\n",
        "    self.__queue = list()\n",
        "\n",
        "  def is_empty(self):\n",
        "    return len(self.__queue) == 0\n",
        "\n",
        "  def is_full(self):\n",
        "    return len(self.__queue) == self.__capacity\n",
        "\n",
        "  def dequeue(self):\n",
        "    if not self.is_empty():\n",
        "      return self.__queue.pop(0)\n",
        "\n",
        "  def enqueue(self, value):\n",
        "    if not self.is_full():\n",
        "      self.__queue.append(value)\n",
        "\n",
        "  def front(self):\n",
        "    if not self.is_empty():\n",
        "      return self.__queue[0]\n",
        "\n",
        "queue1 = MyQueue(5)\n",
        "queue1.enqueue(1)\n",
        "assert queue1.is_full() == False\n",
        "queue1.enqueue(2)\n",
        "print(queue1.front())"
      ],
      "metadata": {
        "colab": {
          "base_uri": "https://localhost:8080/"
        },
        "id": "kkaUvniU1Ltk",
        "outputId": "ef78c521-4c24-474f-895a-534733af626c"
      },
      "execution_count": 22,
      "outputs": [
        {
          "output_type": "stream",
          "name": "stdout",
          "text": [
            "1\n"
          ]
        }
      ]
    },
    {
      "cell_type": "code",
      "source": [
        "from abc import ABC, abstractmethod\n",
        "\n",
        "class Person(ABC):\n",
        "  def __init__(self, name, yob):\n",
        "    self._name = name\n",
        "    self._yob = yob\n",
        "\n",
        "  def get_yob(self):\n",
        "    return self._yob\n",
        "\n",
        "  @abstractmethod\n",
        "  def describe(self):\n",
        "    pass\n",
        "\n",
        "class Student(Person):\n",
        "  def __init__(self, name: str, yob: int, grade: str):\n",
        "    super().__init__(name, yob)\n",
        "    self.grade = grade\n",
        "    self.job = 'Student'\n",
        "\n",
        "  def describe(self):\n",
        "    print(f'Student - Name: {self._name}, YOB: {self._yob}, Grade: {self.grade}')\n",
        "\n",
        "\n",
        "student1 = Student(name=\"studentZ2023\", yob =2011 , grade= \"6\")\n",
        "assert student1._yob == 2011\n",
        "student1.describe()"
      ],
      "metadata": {
        "colab": {
          "base_uri": "https://localhost:8080/"
        },
        "id": "85iWZFNvehp6",
        "outputId": "3e921a02-7705-4905-d581-4bf8bac4ac4f"
      },
      "execution_count": null,
      "outputs": [
        {
          "output_type": "stream",
          "name": "stdout",
          "text": [
            "Student - Name: studentZ2023, YOB: 2011, Grade: 6\n"
          ]
        }
      ]
    },
    {
      "cell_type": "code",
      "source": [],
      "metadata": {
        "id": "ta2nDcDUaUfm"
      },
      "execution_count": null,
      "outputs": []
    },
    {
      "cell_type": "markdown",
      "source": [
        "## THỨ 4 OBJECT ORIENTED PROGRAMING ##"
      ],
      "metadata": {
        "id": "mqd0yzi_vKxf"
      }
    },
    {
      "cell_type": "code",
      "source": [
        "class Cat:\n",
        "  name = 'unknown'\n",
        "  age = -1\n",
        "\n",
        "cat = Cat()\n",
        "print(cat.name)\n",
        "print(cat.age)"
      ],
      "metadata": {
        "colab": {
          "base_uri": "https://localhost:8080/"
        },
        "id": "XrVoKmakOZl2",
        "outputId": "9d405d3b-04fa-4559-fb91-c9500a74a5a7"
      },
      "execution_count": null,
      "outputs": [
        {
          "output_type": "stream",
          "name": "stdout",
          "text": [
            "unknown\n",
            "-1\n"
          ]
        }
      ]
    },
    {
      "cell_type": "code",
      "source": [
        "class Cat:\n",
        "  name = 'unknown'\n",
        "  age = -1\n",
        "\n",
        "  def set_init_values(self, input_name, input_age):\n",
        "    self.name = input_name\n",
        "    self.age = input_age\n",
        "\n",
        "cat = Cat()\n",
        "cat.set_init_values('Calico', 0.8)\n",
        "print(cat.name)\n",
        "print(cat.age)"
      ],
      "metadata": {
        "colab": {
          "base_uri": "https://localhost:8080/"
        },
        "id": "WYneT1mPv9ks",
        "outputId": "8928db49-87a6-4767-ebfc-0817d5e23790"
      },
      "execution_count": null,
      "outputs": [
        {
          "output_type": "stream",
          "name": "stdout",
          "text": [
            "Calico\n",
            "0.8\n"
          ]
        }
      ]
    },
    {
      "cell_type": "code",
      "source": [
        "class Dog:\n",
        "  def __init__(self, name, age):\n",
        "    self.name = name\n",
        "    self.age = age\n",
        "\n",
        "  def __call__(self):\n",
        "    print(self.name, self.age)\n",
        "\n",
        "  def increase_age(self, age):\n",
        "    self.age = self.age + age\n"
      ],
      "metadata": {
        "id": "J4OB5nSY3omF"
      },
      "execution_count": null,
      "outputs": []
    },
    {
      "cell_type": "code",
      "source": [
        "class Cat:\n",
        "  def __init__(self, name):\n",
        "    self.name = name\n",
        "\n",
        "  def get_name(self):\n",
        "    return self.name\n",
        "\n",
        "  def set_name(self, name):\n",
        "    self.name = name\n",
        "\n",
        "# Test:\n",
        "cat = Cat('Calico')\n",
        "print(cat.get_name())\n",
        "\n",
        "cat.set_name('Japanese Bobtail')\n",
        "print(cat.get_name())"
      ],
      "metadata": {
        "colab": {
          "base_uri": "https://localhost:8080/"
        },
        "id": "ITIKDBLEOZqn",
        "outputId": "625df836-48ee-4438-8197-56f04fc246d6"
      },
      "execution_count": null,
      "outputs": [
        {
          "output_type": "stream",
          "name": "stdout",
          "text": [
            "Calico\n",
            "Japanese Bobtail\n"
          ]
        }
      ]
    },
    {
      "cell_type": "code",
      "source": [
        "class Cat:\n",
        "  def __init__(self, name):\n",
        "    self.__name = name # 2 gạch dưới sẽ chuyển sang private\n",
        "\n",
        "  def get_name(self):\n",
        "    return self.name\n",
        "\n",
        "  def set_name(self, name):\n",
        "    self.name = name\n",
        "\n",
        "# Test:\n",
        "cat = Cat('Calico')\n",
        "print(cat.get_name())\n",
        "\n",
        "cat.set_name('Japanese Bobtail')\n",
        "print(cat.get_name())"
      ],
      "metadata": {
        "colab": {
          "base_uri": "https://localhost:8080/"
        },
        "id": "rjEDl34OOZvF",
        "outputId": "c1a1f91a-549a-4964-df95-f0d277a885d6"
      },
      "execution_count": null,
      "outputs": [
        {
          "output_type": "stream",
          "name": "stdout",
          "text": [
            "Calico\n",
            "Japanese Bobtail\n"
          ]
        }
      ]
    },
    {
      "cell_type": "code",
      "source": [
        "class Date:\n",
        "  def __init__(self, year, month, day):\n",
        "    self.__year = year\n",
        "    self.__month = month\n",
        "    self.__day = day\n",
        "\n",
        "  def get_year(self):\n",
        "    return self.__year\n",
        "\n",
        "  def get_month(self):\n",
        "    return self.__month\n",
        "\n",
        "  def get_day(self):\n",
        "    return self.__day\n",
        "\n",
        "  def describe(self):\n",
        "    print(f'{self.__year}/{self.__month}/{self.__day}')\n",
        "\n",
        "d = Date(2019, 1, 1)\n",
        "print(d.get_year(), d.get_month(), d.get_day())\n",
        "d.describe()"
      ],
      "metadata": {
        "colab": {
          "base_uri": "https://localhost:8080/"
        },
        "id": "K9V1_saJ8OzA",
        "outputId": "1cf20c19-00e1-4648-dbfa-2627084ac709"
      },
      "execution_count": null,
      "outputs": [
        {
          "output_type": "stream",
          "name": "stdout",
          "text": [
            "2019 1 1\n",
            "2019/1/1\n"
          ]
        }
      ]
    },
    {
      "cell_type": "code",
      "source": [
        "class Math1:\n",
        "  def total_value(self, numbers):\n",
        "    return sum(numbers)\n",
        "\n",
        "class Math2(Math1):\n",
        "  def compute_average(self, numbers):\n",
        "    return Math1.total_value(self,numbers) / len(numbers)\n",
        "    #return self.total_values(numbers)\n",
        "    #return super().total_values(numbers)\n",
        "\n",
        "#test case\n",
        "math2 = Math2()\n",
        "total = math2.total_value([2, 4, 10])\n",
        "print(f'Total value of [2, 4, 10]: {total}')"
      ],
      "metadata": {
        "colab": {
          "base_uri": "https://localhost:8080/"
        },
        "id": "2Hsy-AigE3-A",
        "outputId": "4ff2bf7e-29cd-4e2f-d7a1-53c972df1021"
      },
      "execution_count": null,
      "outputs": [
        {
          "output_type": "stream",
          "name": "stdout",
          "text": [
            "Total value of [2, 4, 10]: 16\n"
          ]
        }
      ]
    },
    {
      "cell_type": "code",
      "source": [
        "# Inheritance exercise 2:\n",
        "class Employee:\n",
        "  def __init__(self, name, salary):\n",
        "    self._name = name\n",
        "    self._salary = salary\n",
        "\n",
        "  def compute_salary(self):\n",
        "    return self._salary * 3.0\n",
        "\n",
        "# Create class manager\n",
        "class Manager(Employee):\n",
        "  def __init__(self, name, salary, bonus): #Do có thêm 1 thuộc tính mới nên phải có __init__()\n",
        "    super().__init__(name, salary)\n",
        "    self.__bonus = bonus\n",
        "\n",
        "  def compute_salary(self):\n",
        "    return super().compute_salary() + self._bonus"
      ],
      "metadata": {
        "id": "AuAjSUQtHdrd"
      },
      "execution_count": null,
      "outputs": []
    },
    {
      "cell_type": "code",
      "source": [
        "from abc import ABC, abstractmethod\n",
        "\n",
        "class Shape(ABC):\n",
        "  @abstractmethod\n",
        "  def compute_area(self):\n",
        "    pass\n",
        "\n",
        "  @abstractmethod\n",
        "  def perimeter(self):\n",
        "    pass\n",
        "\n",
        "class Square(Shape):\n",
        "  def __init__(self, side) -> None:\n",
        "    self.__side = side\n",
        "  def compute_area(self):\n",
        "    return self.__side * self.__side\n",
        "  def perimeter(self):\n",
        "    return self.__side * 4\n",
        "\n",
        "\n",
        "class Rectangle(Shape):\n",
        "  def __init__(self, height, width):\n",
        "    self.__height = height\n",
        "    self.__width = width\n",
        "  def compute_area(self):\n",
        "    return self.__height * self.__width\n",
        "  def perimeter(self):\n",
        "    return (self.__height + self.__width)* 2\n",
        "\n",
        "class Circle(Shape):\n",
        "  def __init__(self, radius):\n",
        "    self.__radius = radius\n",
        "  def compute_area(self):\n",
        "    return 3.14 * self.__radius * self.__radius\n",
        "  def perimeter(self):\n",
        "    return 2 * 3.14 * self.__radius\n",
        "\n",
        "class Canva:\n",
        "  def draw(self, a_shape):\n",
        "    print(a_shape.compute_area())\n"
      ],
      "metadata": {
        "id": "5-WYmUshNJG2"
      },
      "execution_count": null,
      "outputs": []
    },
    {
      "cell_type": "code",
      "source": [
        "s = Square(2)\n",
        "print(s.compute_area())\n",
        "\n",
        "r = Rectangle(2,3)\n",
        "print(r.compute_area())\n",
        "\n",
        "c = Canva()\n",
        "c.draw(Square(2))\n",
        "\n",
        "e = Circle(2)\n",
        "e.compute_area()"
      ],
      "metadata": {
        "colab": {
          "base_uri": "https://localhost:8080/"
        },
        "id": "Lx7oCU37UVKh",
        "outputId": "193ecb93-55af-4a82-adff-72e1b1926118"
      },
      "execution_count": null,
      "outputs": [
        {
          "output_type": "stream",
          "name": "stdout",
          "text": [
            "4\n",
            "6\n",
            "4\n"
          ]
        },
        {
          "output_type": "execute_result",
          "data": {
            "text/plain": [
              "12.56"
            ]
          },
          "metadata": {},
          "execution_count": 58
        }
      ]
    },
    {
      "cell_type": "code",
      "source": [],
      "metadata": {
        "id": "5IttiJfrHzEg"
      },
      "execution_count": null,
      "outputs": []
    },
    {
      "cell_type": "markdown",
      "source": [
        "# Practices OOP Concepts #"
      ],
      "metadata": {
        "id": "eohEUcCxIoob"
      }
    },
    {
      "cell_type": "markdown",
      "source": [
        "## Key concepts of Object Oriented Programming ##\n",
        "\n",
        "---\n",
        "\n",
        "\n",
        "1. **Class**: A blueprint for creating objects.\n",
        "2. **Object**: An instance of a class.\n",
        "3. **Attributes**: Variables that belong to an object.\n",
        "4. **Methods**: Functions that belong to an object.\n",
        "5. **Encapsulation**: Bundling data and methods that work on the data within one unit (class).\n",
        "6. **Inheritance**: Mechanism to create a new class using details of an existing class.\n",
        "7. **Polymorphism**: Ability to use a common interface for multiple forms (data type).\n",
        "8. **Abstraction**: Hiding the internal states and requiring all interaction to be performed through an object's methods.\n"
      ],
      "metadata": {
        "id": "sGOGF1fRIykh"
      }
    },
    {
      "cell_type": "code",
      "source": [
        "class Dog:\n",
        "  # Class attribute\n",
        "  species = 'Canis familiaris'\n",
        "\n",
        "  # Initializer/ Instance attributes\n",
        "  def __init__(self, name, age):\n",
        "    self.name = name\n",
        "    self.age = age\n",
        "\n",
        "  # Instance method\n",
        "  def description(self):\n",
        "    return f'{self.name} is {self.age} years old'\n",
        "\n",
        "  # Another instance method:\n",
        "  def speak(self, sound):\n",
        "    return f'{self.name} says {sound}'\n",
        "\n",
        "# test case\n",
        "my_dog = Dog('Buddy', 3)\n",
        "print(my_dog.description())\n",
        "print(my_dog.speak('Woof!'))"
      ],
      "metadata": {
        "colab": {
          "base_uri": "https://localhost:8080/"
        },
        "id": "9geEHMOQI0nj",
        "outputId": "8b321c8f-21b9-4b9b-963a-d938200212c4"
      },
      "execution_count": null,
      "outputs": [
        {
          "output_type": "stream",
          "name": "stdout",
          "text": [
            "Buddy is 3 years old\n",
            "Buddy says Woof!\n"
          ]
        }
      ]
    },
    {
      "cell_type": "markdown",
      "source": [
        "Exercise 2: Adding Methods to a Class\n",
        "\n",
        "---\n",
        "Objectives: Add methods to a class to perform actions\n",
        "\n",
        "Tasks:\n",
        "1. Define a class named \"Rectangle\".\n",
        "2. Add attributes for \"width\" and \"height\".\n",
        "3. Create an initializer tro initialize these attributes.\n",
        "4. Add a method named \"Area\" that returns the area of the rectangle.\n",
        "5. Add a method named \"perimeter\" that returns the perimeter of the rectangle.\n",
        "6. Create an object of the \"rectangle\" class and print its area and perimeter.\n"
      ],
      "metadata": {
        "id": "J_o-GZKpbw-f"
      }
    },
    {
      "cell_type": "code",
      "source": [
        "# Exercise 1 _ warm up\n",
        "class Rectangle:\n",
        "  # Initializer\n",
        "  def __init__(self, height, width):\n",
        "    self.height = height\n",
        "    self.width = width\n",
        "\n",
        "  # Instance method _ calculate area of the rectangle\n",
        "  def calculate_area(self):\n",
        "    return self.width * self.height\n",
        "\n",
        "  # Instance method _ calculate perimeter of the rectangle\n",
        "  def perimeter(self):\n",
        "    return (self.width + self.height)* 2\n",
        "\n",
        "r = Rectangle(2,3)\n",
        "print(r.calculate_area())\n",
        "print(r.perimeter())\n"
      ],
      "metadata": {
        "colab": {
          "base_uri": "https://localhost:8080/"
        },
        "id": "eh0hyFgvItzR",
        "outputId": "27f06eb7-f539-4226-c75a-f2bb43b359fc"
      },
      "execution_count": null,
      "outputs": [
        {
          "output_type": "stream",
          "name": "stdout",
          "text": [
            "6\n",
            "10\n"
          ]
        }
      ]
    },
    {
      "cell_type": "markdown",
      "source": [
        "Exercise 3: Inheritance\n",
        "\n",
        "---\n",
        "\n",
        "Objective: Use inheritance to create a new class based on an existing class.\n",
        "\n",
        "Task:\n",
        "1. Define a class named \"Vehicle\" with an attribute \"brand\".\n",
        "2. Add a method named \"start_engine\" that prints \"Engine started\".\n",
        "3. Define a class named \"Car\" that inherits from \"Vehicle\".\n",
        "4. Add an attribute \"model\" to the \"Car\" class.\n",
        "5. Add a method named \"drive\" that prints \"Car is driving\".\n",
        "6. Create an object of the \"Car\" class and call its methods."
      ],
      "metadata": {
        "id": "5u0tTU32a7EV"
      }
    },
    {
      "cell_type": "code",
      "source": [
        "# Exercise 3 _ Inheritance\n",
        "class Vehicle:\n",
        "  def __init__(self, brand):\n",
        "    self. brand = brand\n",
        "\n",
        "  def start_engine(self):\n",
        "    print('Starting engine...')\n",
        "\n",
        "class Car(Vehicle):\n",
        "  def __init__(self, brand, model):\n",
        "    super().__init__(brand)\n",
        "    self.model = model\n",
        "\n",
        "  def drive(self):\n",
        "    print('Car is driving...')\n",
        "\n",
        "c = Car('Honda', 'Civic')\n",
        "c.start_engine()\n",
        "c.drive()\n",
        "# print(f'Brand: {c.brand()}, model: {c.model()}') # Error because brand and model are attribute, not method\n",
        "print(f'Brand: {c.brand}, model: {c.model}')\n"
      ],
      "metadata": {
        "colab": {
          "base_uri": "https://localhost:8080/"
        },
        "id": "7CvPG_HyPG-n",
        "outputId": "024563ab-da35-413b-cf97-f7a7e7e0bea9"
      },
      "execution_count": null,
      "outputs": [
        {
          "output_type": "stream",
          "name": "stdout",
          "text": [
            "Starting engine...\n",
            "Car is driving...\n",
            "Brand: Honda, model: Civic\n"
          ]
        }
      ]
    },
    {
      "cell_type": "markdown",
      "source": [
        "Exercise 4: Encapsulation\n",
        "\n",
        "---\n",
        "\n",
        "\n",
        "1. Define a class named \"Bank_account\".\n",
        "2. Add a private attribute \"balance\".\n",
        "3. Create an initializer to initialize the balance.\n",
        "4. Add a method \"deposit\" to add to the balance.\n",
        "5. Add a method \"withdraw' to subtract from the balance, making sure the balance does not go negative.\n",
        "6. Add a method \"get_balance\" to return the current balance.\n",
        "7. Create an object of the \"Bank_account\" class and test the methods."
      ],
      "metadata": {
        "id": "s8Ce9DkwaDXc"
      }
    },
    {
      "cell_type": "code",
      "source": [
        "# Exercise 4 _ Ecapsulation\n",
        "class Bank_account:\n",
        "  def __init__(self, balance):\n",
        "    self.__balance = balance\n",
        "\n",
        "  def deposit(self, amount):\n",
        "    self.__balance += amount\n",
        "\n",
        "  def withdraw(self, amount):\n",
        "    if self.__balance >= amount:\n",
        "      self.__balance -= amount\n",
        "    else:\n",
        "      print('Insufficient balance')\n",
        "\n",
        "  def get_balance(self):\n",
        "    return self.__balance\n",
        "\n",
        "# Create an object of the Bank_account class:\n",
        "my_account = Bank_account(1000)\n",
        "\n",
        "# Deposit money:\n",
        "my_account.deposit(50)\n",
        "print(f\"Balance after deposit: {my_account.get_balance()}\")  # Output: Balance after deposit: 1050\n",
        "\n",
        "my_account.withdraw(30)\n",
        "print(f\"Balance after withdrawal: {my_account.get_balance()}\")  # Output: Balance after withdrawal: 1020\n",
        "\n",
        "my_account.withdraw(2000)  # Should not change the balance\n",
        "print(f\"Balance after attempted overdraw: {my_account.get_balance()}\")  # Output: Balance after attempted overdraw: 120"
      ],
      "metadata": {
        "colab": {
          "base_uri": "https://localhost:8080/"
        },
        "id": "DoCdR1FjQrDg",
        "outputId": "7bca3fc2-5de1-4ee6-9ac6-a2beded6d890"
      },
      "execution_count": null,
      "outputs": [
        {
          "output_type": "stream",
          "name": "stdout",
          "text": [
            "Balance after deposit: 1050\n",
            "Balance after withdrawal: 1020\n",
            "Insufficient balance\n",
            "Balance after attempted overdraw: 1020\n"
          ]
        }
      ]
    },
    {
      "cell_type": "markdown",
      "source": [
        "Excercise 5_ Polymorphism\n",
        "\n",
        "---\n",
        "\n",
        "1. Define a base class named \"Animal\" with an abstract method \"speak\"\n",
        "2. Define two subclasses \"Dog\" and \"Cat\" that inherit from \"Animal\" and implement the \"speak\" method\n",
        "3. Create a list of \"Animal\" objects (some \"Dog\" and some \"Cat\")\n",
        "4. Iterate through the list and call the \"sepak method on each object."
      ],
      "metadata": {
        "id": "1qJzM1XgYBbW"
      }
    },
    {
      "cell_type": "code",
      "source": [
        "# Exercise 5 _ Polymorphism\n",
        "from abc import ABC, abstractmethod\n",
        "\n",
        "class Animal(ABC):\n",
        "  @abstractmethod\n",
        "  def speak(self):\n",
        "    pass\n",
        "\n",
        "class Dog(Animal):\n",
        "  def speak(self):\n",
        "    return \"Wolf wolf\"\n",
        "\n",
        "class Cat(Animal):\n",
        "  def speak(self):\n",
        "    return \"Meow meow\"\n",
        "\n",
        "# Test case\n",
        "animals = [Dog(), Cat()]\n",
        "for animal in animals:\n",
        "  print(animal.speak())"
      ],
      "metadata": {
        "colab": {
          "base_uri": "https://localhost:8080/"
        },
        "id": "ZxB6e1M_Guw9",
        "outputId": "7955cd20-fead-48c2-842a-a3f1a7c8a1c0"
      },
      "execution_count": null,
      "outputs": [
        {
          "output_type": "stream",
          "name": "stdout",
          "text": [
            "Wolf wolf\n",
            "Meow meow\n"
          ]
        }
      ]
    },
    {
      "cell_type": "markdown",
      "source": [
        "Advanced Class Design: Exercise 1\n",
        "\n",
        "\n",
        "---\n",
        "\n",
        "Objective: Create a class with both class methdos and instance methods, and use class attributes.\n",
        "\n",
        "Tasks:\n",
        "1. Define a class named 'Library'.\n",
        "2. Add a class attribute 'total_books'.\n",
        "3. Create an initializer to initialize the instance attribute 'books' (a dictionary with book titles as keys and quantities as values).\n",
        "4. Add a method \"add_book\" to add a book to the library.\n",
        "5. Add a method \"borrow_book\" to borrow a book from the library, decreasing its quantity.\n",
        "6. Add a class method \"get_total_books\" to return the total number of books in the library.\n",
        "7. Create objects of the \"Library\" class and test the methods."
      ],
      "metadata": {
        "id": "LzOD1fjidi4X"
      }
    },
    {
      "cell_type": "markdown",
      "source": [
        "Exercise 2: Inheritance and Method Overriding\n",
        "\n",
        "\n",
        "---\n",
        "\n",
        "Objective: Practice Inheritance and method overriding\n",
        "\n",
        "Explanation:\n",
        "\n",
        "Inheritance allows a class (child class| subclass) to inherit attributes and methods from another class (parent class). Method overriding lets a child class provide a specific implementation of a method already defined in its parent class.\n",
        "\n",
        "Task:\n",
        "1. Define a base class named 'Shape' with a method 'calculate_area' that returns 0.\n",
        "2. Define two subclasses, 'Rectangle' and 'Circle', that inherit from 'Shape'.\n",
        "3. Override the 'calculate_area' method in both subclasses to compute the area of a rectangle and a circle, respectively.\n",
        "4. Create objects of both subclasses and print their calculated areas.\n"
      ],
      "metadata": {
        "id": "DmPD8seViWGH"
      }
    },
    {
      "cell_type": "code",
      "source": [
        "import math\n",
        "from abc import ABC, abstractmethod\n",
        "\n",
        "# Base class\n",
        "class Shape:\n",
        "  def calculate_area(self):\n",
        "    return 0\n",
        "\n",
        "class Rectangle(Shape):\n",
        "  def __init__(self, height, width):\n",
        "    self.height = height\n",
        "    self.width = width\n",
        "\n",
        "  def calculate_area(self):\n",
        "    return self.height * self.width\n",
        "\n",
        "class Circle(Shape):\n",
        "  def __init__(self, radius):\n",
        "    self.radius = radius\n",
        "\n",
        "  def calculate_area(self):\n",
        "    return math.pi * self.radius**2\n",
        "\n",
        "# Test case\n",
        "rectangle = Rectangle(5, 3)\n",
        "circle = Circle(4)\n",
        "\n",
        "# Print their areas\n",
        "print(f\"Rectangle area: {rectangle.calculate_area()}\")  # Output: Rectangle area: 20\n",
        "print(f\"Circle area: {circle.calculate_area()}\")  # Output: Circle area: 28.274333882308138"
      ],
      "metadata": {
        "colab": {
          "base_uri": "https://localhost:8080/"
        },
        "id": "QZrA9np2jYMX",
        "outputId": "7aea720d-3c5e-464c-d909-97c4b1368bf3"
      },
      "execution_count": null,
      "outputs": [
        {
          "output_type": "stream",
          "name": "stdout",
          "text": [
            "Rectangle area: 15\n",
            "Circle area: 50.26548245743669\n"
          ]
        }
      ]
    },
    {
      "cell_type": "code",
      "source": [
        "from abc import ABC, abstractmethod\n",
        "\n",
        "# Base class\n",
        "class Shape(ABC):\n",
        "  @abstractmethod\n",
        "  def calculate_area(self):\n",
        "    pass\n",
        "\n",
        "# Subclasses\n",
        "class Square(Shape):\n",
        "  def __init__(self, side):\n",
        "    self.side = side\n",
        "\n",
        "  def calculate_area(self):\n",
        "    return self.side*self.side\n",
        "\n",
        "class Rectangle(Shape):\n",
        "  def __init__(self, height, width):\n",
        "    self.height = height\n",
        "    self.width = width\n",
        "\n",
        "  def calculate_area(self):\n",
        "    return self.height*self.width\n",
        "\n",
        "class Circle(Shape):\n",
        "  def __init__(self, radius):\n",
        "    self.radius = radius\n",
        "\n",
        "  def calculate_area(self):\n",
        "    return 3.14* self.radius**2\n",
        "\n",
        "# Test case\n",
        "s = Square(2)\n",
        "print(s.calculate_area())\n",
        "\n",
        "r = Rectangle(2,3)\n",
        "print(r.calculate_area())\n",
        "\n",
        "c = Circle(2)\n",
        "print(c.calculate_area())"
      ],
      "metadata": {
        "colab": {
          "base_uri": "https://localhost:8080/"
        },
        "id": "NpSZw6JqoycN",
        "outputId": "45fd09a1-8d86-4953-fb00-1c46d2b23621"
      },
      "execution_count": null,
      "outputs": [
        {
          "output_type": "stream",
          "name": "stdout",
          "text": [
            "4\n",
            "6\n",
            "12.56\n"
          ]
        }
      ]
    },
    {
      "cell_type": "markdown",
      "source": [
        "Exercise 2: Composition\n",
        "\n",
        "---\n",
        "\n",
        "Objective: Understand and implement composition in OOP\n",
        "\n",
        "Explanation:\n",
        "Composition is a way to combine objects or classes. It represents a \"has-a\" relationship. For example, a car \"has-a\" engine.\n",
        "\n",
        "Task:\n",
        "1. Define a class named \"Engine\" with a method \"start\" that prints \"Engine started\".\n",
        "2. Define a class named \"Car\" that has an \"Engine\" object as an attribute.\n",
        "3. Add a method \"start\" in the \"Car\" that starts the engine.\n",
        "4. Create an object of the \"Car\" class and starts its engine."
      ],
      "metadata": {
        "id": "etkPz-cNiWEE"
      }
    },
    {
      "cell_type": "code",
      "source": [
        "# Class representing an Engine\n",
        "class Engine:\n",
        "  def start(self):\n",
        "    print('Engine started')\n",
        "\n",
        "#Class representing a car\n",
        "class Car:\n",
        "    def __init__(self):\n",
        "      self.engine = Engine() # Composition: Car has an engine\n",
        "\n",
        "    def start(self):\n",
        "        self.engine.start()\n",
        "\n",
        "# Create and object of the Car class and starts the engine\n",
        "my_car = Car()\n",
        "\n",
        "# Start the engine\n",
        "my_car.start()"
      ],
      "metadata": {
        "colab": {
          "base_uri": "https://localhost:8080/"
        },
        "id": "jTdiqvyjr44b",
        "outputId": "940bfe4b-c395-49cc-e0a5-85194508e361"
      },
      "execution_count": null,
      "outputs": [
        {
          "output_type": "stream",
          "name": "stdout",
          "text": [
            "Engine started\n"
          ]
        }
      ]
    },
    {
      "cell_type": "markdown",
      "source": [
        "Exercise 3: Encapsulation and Property Decorators\n",
        "\n",
        "\n",
        "---\n",
        "\n",
        "Objective: Use encapsulation and property decorators to control access to attributes.\n",
        "\n",
        "Explanation:\n",
        "Encapsulation restricts direct access to some of an object's attributes and methods. Using property decorators ('@property'), we can define methods that control access to these attributes.\n",
        "\n",
        "Task:\n",
        "1. Define a class named 'Person' with a private attribute 'age'.\n",
        "2. Use property decorators to create a getter and a setter for the 'age' attributes.\n",
        "3. The setter should raise a 'ValueError' if the age is set to a negative number.\n",
        "4. Create an object of the 'Person' class, set a valid age, and attempt to set an invalid age."
      ],
      "metadata": {
        "id": "O6R0BDtHiWA7"
      }
    },
    {
      "cell_type": "code",
      "source": [
        "# Class representing a person\n",
        "class Person:\n",
        "  def __init__(self, age):\n",
        "    self._age = age # private attribute\n",
        "\n",
        "  #Getter for age\n",
        "  @property\n",
        "  def age(self):\n",
        "    return self._age\n",
        "\n",
        "  #Setter for age\n",
        "  @age.setter #What is this?\n",
        "  def age(self, value):\n",
        "    if value < 0:\n",
        "      raise ValueError('Age cannot be negatve')\n",
        "    self._age = value\n",
        "\n",
        "# Create an object of the Person class\n",
        "person = Person(25)\n",
        "\n",
        "# Set a valid age\n",
        "person.age = 25\n",
        "print(person.age)\n",
        "# Attempt to set an invalid age\n",
        "try:\n",
        "  person.age = -10\n",
        "except ValueError as e:\n",
        "  print(e)"
      ],
      "metadata": {
        "colab": {
          "base_uri": "https://localhost:8080/"
        },
        "id": "7717PReGupaG",
        "outputId": "c5f5248f-e0d5-458a-d828-91e8b7b92861"
      },
      "execution_count": null,
      "outputs": [
        {
          "output_type": "stream",
          "name": "stdout",
          "text": [
            "25\n",
            "Age cannot be negatve\n"
          ]
        }
      ]
    },
    {
      "cell_type": "markdown",
      "source": [
        "Exercise 4: Abstract Base Classes and Polymorphism\n",
        "\n",
        "\n",
        "---\n",
        "\n",
        "Objective: use abstract base classes and polymorphism\n",
        "\n",
        "Explanation:\n",
        "An abstract base class (ABC) is a class that cannot be instantiated and is meant to be subclassed. It contains one or more abstract methods, which must be implemented by subclasses. Polymorphism allows objects of different classes to be treated as objects of a common superclass.\n",
        "\n",
        "Task:\n",
        "1. Define an abstract base class \"Animal\" with an abstract method \"sound\".\n",
        "2. Define two subclasses, \"Dog\" and \"Cat\", that inherit from \"Animal\" and implement the \"sound\" method.\n",
        "3. Create a function \"make_sound\" that takes an \"Animal\" object and calls its \"sound\" method.\n",
        "4. Create objects of \"Dog\" and \"Cat\" and use the \"make_sound\" function."
      ],
      "metadata": {
        "id": "OCu-Mpl3yYrg"
      }
    },
    {
      "cell_type": "code",
      "source": [
        "from abc import ABC, abstractmethod\n",
        "\n",
        "# Create base class Animal:\n",
        "class Animal(ABC):\n",
        "  @abstractmethod\n",
        "  def sound(self):\n",
        "    pass\n",
        "\n",
        "class Dog(Animal):\n",
        "  def sound(self):\n",
        "    return \"Wolf Wolf\"\n",
        "\n",
        "class Cat(Animal):\n",
        "  def sound(self):\n",
        "    return \"Meow meow\"\n",
        "\n",
        "# Create a function \"make_sound\"\n",
        "def make_sound(animal):\n",
        "  print(animal.sound())\n",
        "\n",
        "# Create a list of animal objects and use the make_sound function\n",
        "animals = [Dog(), Cat()]\n",
        "for animal in animals:\n",
        "  make_sound(animal)\n"
      ],
      "metadata": {
        "colab": {
          "base_uri": "https://localhost:8080/"
        },
        "id": "po5txsVwdiDA",
        "outputId": "0880b707-83c2-484e-eaed-7169bab59c7a"
      },
      "execution_count": null,
      "outputs": [
        {
          "output_type": "stream",
          "name": "stdout",
          "text": [
            "Wolf Wolf\n",
            "None\n",
            "Meow meow\n",
            "None\n"
          ]
        }
      ]
    },
    {
      "cell_type": "markdown",
      "source": [
        "Exercise 5: Operator Overloading\n",
        "\n",
        "---\n",
        "Objective: Overload operators to provide custom behavior.\n",
        "\n",
        "Explanation: Operator overloading allows you to define custom behavior for standard operators (like '+', '-', '*', etc.) for your classes. This is done by defining special methods in your class.\n",
        "\n",
        "Task:\n",
        "1. Define a class named \"Vector\" with attributes \"x\" and \"y\".\n",
        "2. Overload the \"+\" operators to add two vectors\n",
        "3. Overload the \"(_ _ str _ _)\" method to print the vector in the format '(x, y)'.\n",
        "4. Create two \"Vector\" objects and add them together, then print the results.\n"
      ],
      "metadata": {
        "id": "NSnkKtGh58W7"
      }
    },
    {
      "cell_type": "code",
      "source": [
        "# Class representing vector\n",
        "class Vector:\n",
        "  def __init__(self, x, y):\n",
        "    self.x = x\n",
        "    self.y = y\n",
        "\n",
        "  # Overload the + operator\n",
        "  def __add__(self, other):\n",
        "   return Vector(self.x + other.x, self.y + other.y)\n",
        "\n",
        "  # Overload the __str__ method\n",
        "  def __str__(self):\n",
        "    return f'({self.x}, {self.y})'\n",
        "\n",
        "# Create two Vector objects and add them together\n",
        "v1 = Vector(2, 3)\n",
        "v2 = Vector(4, 5)\n",
        "\n",
        "# Add the vectors\n",
        "result = v1 + v2\n",
        "print(result)"
      ],
      "metadata": {
        "colab": {
          "base_uri": "https://localhost:8080/"
        },
        "id": "CBNTG3ed57oP",
        "outputId": "1f79cb18-2b37-4bd9-8725-9b7d86c2ae25"
      },
      "execution_count": null,
      "outputs": [
        {
          "output_type": "stream",
          "name": "stdout",
          "text": [
            "(6, 8)\n"
          ]
        }
      ]
    },
    {
      "cell_type": "code",
      "source": [],
      "metadata": {
        "id": "L9JbQUaC-4Vd"
      },
      "execution_count": null,
      "outputs": []
    },
    {
      "cell_type": "code",
      "source": [
        "# @title KDTree\n",
        "class TreeNode:\n",
        "  def __init__(self, data):\n",
        "    self.data = data\n",
        "    self.children = []\n",
        "    self.parent = None\n",
        "\n",
        "  def add_children(self, child):\n",
        "    child.parent = self\n",
        "    self.children.append(child)\n",
        "\n",
        "  def get_level(self):\n",
        "    level = 0\n",
        "    p = self.parent\n",
        "    while p:\n",
        "      level += 1\n",
        "      p = p.parent\n",
        "    return level\n",
        "\n",
        "  def print_tree(self):\n",
        "    print(self.data)\n",
        "    for child in self.children:\n",
        "      child.print_tree()\n",
        "\n",
        "# test case\n",
        "root = TreeNode(1)\n",
        "root.add_children(TreeNode(2))\n",
        "root.add_children(TreeNode(3))\n",
        "root.add_children(TreeNode(4))\n",
        "\n",
        "print(root.get_level())\n",
        "root.print_tree()"
      ],
      "metadata": {
        "colab": {
          "base_uri": "https://localhost:8080/"
        },
        "cellView": "form",
        "id": "eWBNKJhJHPTL",
        "outputId": "74a14764-d06f-4ee2-8158-fc61a95d9dcc"
      },
      "execution_count": null,
      "outputs": [
        {
          "output_type": "stream",
          "name": "stdout",
          "text": [
            "0\n",
            "1\n",
            "2\n",
            "3\n",
            "4\n"
          ]
        }
      ]
    }
  ]
}