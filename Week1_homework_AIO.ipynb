{
  "nbformat": 4,
  "nbformat_minor": 0,
  "metadata": {
    "colab": {
      "provenance": [],
      "authorship_tag": "ABX9TyORqzJ+iQb+mpKa9zounpDK",
      "include_colab_link": true
    },
    "kernelspec": {
      "name": "python3",
      "display_name": "Python 3"
    },
    "language_info": {
      "name": "python"
    }
  },
  "cells": [
    {
      "cell_type": "markdown",
      "metadata": {
        "id": "view-in-github",
        "colab_type": "text"
      },
      "source": [
        "<a href=\"https://colab.research.google.com/github/KinhVan2x1/AIO_2024_Excercise/blob/feature/Week1_homework_AIO.ipynb\" target=\"_parent\"><img src=\"https://colab.research.google.com/assets/colab-badge.svg\" alt=\"Open In Colab\"/></a>"
      ]
    },
    {
      "cell_type": "code",
      "execution_count": null,
      "metadata": {
        "id": "pzDf0dcaSplW"
      },
      "outputs": [],
      "source": [
        "# @title Precision function\n",
        "def model_precision(tp,fp,fn):\n",
        "  '''\n",
        "  This function is created to calculate the precision of classification model.\n",
        "\n",
        "  Paremeters:\n",
        "  tp is true positive (int)\n",
        "  fp is fals positive (int)\n",
        "  fn is fals negative (int)\n",
        "  '''\n",
        "  if isinstance(tp,int) and isinstance(fp,int) and isinstance(fn,int):\n",
        "      if (tp > 0) and (fp > 0) and (fn > 0):\n",
        "        precision = tp/(tp + fp)\n",
        "        recall = tp/ (tp + fn)\n",
        "        f1_score = 2*(precision * recall)/(precision + recall)\n",
        "        print(f'Precision is {precision}')\n",
        "        print(f'Recall is {recall}')\n",
        "        print(f'F1_score is {f1_score}')\n",
        "      else:\n",
        "        print(f'tp, fp and fn must be greater than 0!!!')\n",
        "  else:\n",
        "      print(f'tp, fp, fn must be int')"
      ]
    },
    {
      "cell_type": "code",
      "source": [
        "model_precision(tp=4,fp=3,fn=4)"
      ],
      "metadata": {
        "colab": {
          "base_uri": "https://localhost:8080/"
        },
        "id": "3o8RjypXcYr8",
        "outputId": "92162a3b-8bd5-41ef-9470-b2f86896e956"
      },
      "execution_count": null,
      "outputs": [
        {
          "output_type": "stream",
          "name": "stdout",
          "text": [
            "Precision is 0.5714285714285714\n",
            "Recall is 0.5\n",
            "F1_score is 0.5333333333333333\n"
          ]
        }
      ]
    },
    {
      "cell_type": "code",
      "source": [
        "# @title Sigmoid function\n",
        "import math\n",
        "def sigmoid(x):\n",
        "  return 1/(1 + (math.e)**(-x))"
      ],
      "metadata": {
        "id": "kKZ0ZIUihbBZ",
        "cellView": "form"
      },
      "execution_count": null,
      "outputs": []
    },
    {
      "cell_type": "code",
      "source": [
        "# @title RELU\n",
        "def relu(x):\n",
        "  if x < 0:\n",
        "    result = 0\n",
        "  else:\n",
        "    result = x\n",
        "  return result\n",
        "\n",
        "print(relu(-3))\n",
        "print(relu(4))"
      ],
      "metadata": {
        "colab": {
          "base_uri": "https://localhost:8080/"
        },
        "id": "H2tagNOYG2aT",
        "outputId": "a4f7c547-7207-4cab-c1df-63c533e45d3a",
        "cellView": "form"
      },
      "execution_count": null,
      "outputs": [
        {
          "output_type": "stream",
          "name": "stdout",
          "text": [
            "0\n",
            "4\n"
          ]
        }
      ]
    },
    {
      "cell_type": "code",
      "source": [
        "# @title ELU\n",
        "def elu(x):\n",
        "  alpha = 0.01\n",
        "  if (x > 0):\n",
        "    return x\n",
        "  else:\n",
        "    return alpha*(math.e**x - 1)"
      ],
      "metadata": {
        "id": "lqrTcN1Jru45",
        "cellView": "form"
      },
      "execution_count": null,
      "outputs": []
    },
    {
      "cell_type": "code",
      "source": [
        "# @title is_numer()\n",
        "def is_number(n):\n",
        "  try:\n",
        "    float(n)\n",
        "  except ValueError:\n",
        "    return False\n",
        "  return True"
      ],
      "metadata": {
        "id": "yJQKD8Ish1YP",
        "cellView": "form"
      },
      "execution_count": null,
      "outputs": []
    },
    {
      "cell_type": "code",
      "source": [
        "# @title Excercise_2\n",
        "def exercise_2(x, activation_function):\n",
        "  '''\n",
        "  The purpose of this exercise is to calculate the outcome of the input based on the selection of activation functions\n",
        "  '''\n",
        "  if isinstance(x, float):\n",
        "    if activation_function == 'relu':\n",
        "      return f'Relu: {relu(x)}'\n",
        "    elif activation_function == 'sigmoid':\n",
        "      return f'Sigmoid: {sigmoid(x)}'\n",
        "    else:\n",
        "      return f'Elu: {elu(x)}'\n",
        "  else:\n",
        "    return f'X must be a number'"
      ],
      "metadata": {
        "id": "faXSWFlyqb10",
        "cellView": "form"
      },
      "execution_count": null,
      "outputs": []
    },
    {
      "cell_type": "code",
      "source": [
        "# @title Exercise 2 version 2 - Activation Functions\n",
        "def exercise_2_ver_2():\n",
        "  while True:\n",
        "    try:\n",
        "      x = float(input('Enter your x: '))\n",
        "      activation_function = input(f'Select your activation function (sigmoid|relu|elu): ').lower()\n",
        "      if activation_function == 'sigmoid':\n",
        "        return f'Sigmoid: {sigmoid(x):.2f}'\n",
        "      elif activation_function == 'relu':\n",
        "        return f'Relu: {relu(x):.2f}'\n",
        "      elif activation_function == 'elu':\n",
        "        return f'Elu: {elu(x):.2f}'\n",
        "      else:\n",
        "        return f'{activation_function} is not supported!'\n",
        "    except ValueError:\n",
        "      print('X must be a number!')"
      ],
      "metadata": {
        "id": "KIw8Hyt4TnVz"
      },
      "execution_count": null,
      "outputs": []
    },
    {
      "cell_type": "code",
      "source": [
        "# @title Exercise 2 ver 3 -Activation Functions\n",
        "def exercise_2_ver_3():\n",
        "  while True:\n",
        "    try:\n",
        "      result = None\n",
        "      x = input('Enter your x: ')\n",
        "      activation_function = input(f'Select your activation function (sigmoid|relu|elu): ').lower()\n",
        "\n",
        "      if activation_function not in ['sigmoid', 'relu', 'elu']:\n",
        "        print(f'Activation function {activation_function} is not compatible!')\n",
        "        continue\n",
        "      elif activation_function ==\n"
      ],
      "metadata": {
        "id": "Tr8tMVM8bCbr"
      },
      "execution_count": null,
      "outputs": []
    },
    {
      "cell_type": "code",
      "source": [
        "exercise_2_ver_2()"
      ],
      "metadata": {
        "colab": {
          "base_uri": "https://localhost:8080/",
          "height": 70
        },
        "id": "WJ26Whm9Uhn6",
        "outputId": "dc14a441-5db6-41e0-c26c-3174ad4fc560"
      },
      "execution_count": null,
      "outputs": [
        {
          "name": "stdout",
          "output_type": "stream",
          "text": [
            "Enter your x: 23\n",
            "Select your activation function (sigmoid|relu|elu): sdf\n"
          ]
        },
        {
          "output_type": "execute_result",
          "data": {
            "text/plain": [
              "'sdf is not supported!'"
            ],
            "application/vnd.google.colaboratory.intrinsic+json": {
              "type": "string"
            }
          },
          "metadata": {},
          "execution_count": 49
        }
      ]
    },
    {
      "cell_type": "code",
      "source": [
        "def exercise_2():\n",
        "    while True: # Checking the condition for the whhile loop for valid input of x and activation function\n",
        "        try:\n",
        "            x = float(input(f'Enter your x: '))\n",
        "            activation_function = input(f'Select activation function (sigmoid|relu|elu): ').lower()\n",
        "            if activation_function == 'sigmoid':\n",
        "                return f'Sigmoid: {sigmoid(x)}'\n",
        "            elif activation_function == 'relu':\n",
        "                return f'ReLu: {max(0, x)}'\n",
        "            elif activation_function == 'elu':\n",
        "                return f'Elu: {x if x >= 0 else np.exp(x) - 1}'\n",
        "            else:\n",
        "                print(\"Invalid activation function. Please try again.\")\n",
        "        except ValueError:\n",
        "            print('X must be a number!')"
      ],
      "metadata": {
        "id": "0x-smxFoSrqU"
      },
      "execution_count": null,
      "outputs": []
    },
    {
      "cell_type": "code",
      "source": [
        "# @title Exercise_3 Function for calculating Loss\n",
        "import math\n",
        "\n",
        "def mae(y, y_hat):\n",
        "  '''\n",
        "  This function was created to calculate mean absolute error for a list\n",
        "  n is the number of samples\n",
        "  i is the instance within the list\n",
        "  y is the target\n",
        "  y_hat is the prediction\n",
        "  '''\n",
        "  res = 0\n",
        "  n = len(y)\n",
        "  for i in range(n):\n",
        "    res = abs(y[i] - y_hat[i])\n",
        "    res += res\n",
        "  return res/n\n",
        "\n",
        "def mse(y, y_hat):\n",
        "  '''\n",
        "  This function was created to calculate mean squared error for a list\n",
        "  n is the number of samples\n",
        "  i is the instanc within the sample\n",
        "  y is the target\n",
        "  y_hat is the prediction\n",
        "  '''\n",
        "  res = 0\n",
        "  n = len(y)\n",
        "  for i in range(n):\n",
        "    res = (y[i] - y_hat[i])**2\n",
        "    res += res\n",
        "  return res/n\n",
        "\n",
        "def rmse(y, ty_hat):\n",
        "  '''\n",
        "  This function was created to calculate root mean squared error for a list\n",
        "  n is the number of samples\n",
        "  i is the instanc within the sample\n",
        "  y is the target\n",
        "  y_hat is the prediction\n",
        "  '''\n",
        "  res = 0\n",
        "  n = len(y)\n",
        "  for i in range(n):\n",
        "    res = (y[i] - y_hat[i])**2\n",
        "    res += res\n",
        "  return (res/n)**0.5\n",
        "\n",
        "def mae_ind(y, y_hat):\n",
        "  return abs(y - y_hat)/n\n",
        "def mse_ind(y, y_hat):\n",
        "  return ((y - y_hat)**2)/n\n",
        "def rmse_ind(y, y_hat):\n",
        "  return (((y - y_hat)**2)/n)**0.5\n",
        "def exercise_3():\n",
        "  '''\n",
        "  Input:\n",
        "  - Users enter the number of desired samples\n",
        "  - Users enter the name of the loss function\n",
        "\n",
        "  Output:\n",
        "  - Loss name: User selected\n",
        "  - sample\n",
        "  '''\n",
        "  while True:\n",
        "    try:\n",
        "      n = int(input(f'Enter your desired number of samples: '))\n",
        "      loss_function = input(f'Select your desired loss function (MAE|MSE|RMSE): ').lower()\n",
        "\n",
        "      y = []\n",
        "      y_hat = []\n",
        "\n",
        "      for _ in range(n):\n",
        "        y.append(random.uniform(0,n))\n",
        "        y_hat.append(random.uniform(0,n))\n",
        "\n",
        "      if loss_function == 'mae':\n",
        "        for i in range(n):\n",
        "          print(f'Loss Function: {loss_function.upper()}| Sample_no: {i}')\n",
        "          print(f'Prediction: {y_hat[i]}| Target: {y[i]}')\n",
        "          print(f'Loss: {mae_ind(y[i], y_hat[i])}')\n",
        "\n",
        "      elif loss_function == 'mse':\n",
        "        for i in range(n):\n",
        "          print(f'Loss Function: {loss_function.upper()}| Sample_no: {i}')\n",
        "          print(f'Prediction: {y_hat[i]}| Target: {y[i]}')\n",
        "          print(f'Loss: {mse_ind(y[i], y_hat[i])}')\n",
        "\n",
        "      elif loss_function == 'rmse':\n",
        "        for i in range(n):\n",
        "          print(f'Loss Function: {loss_function.upper()}| Sample_no: {i}')\n",
        "          print(f'Prediction: {y_hat[i]}| Target: {y[i]}')\n",
        "          print(f'Loss: {rmse_ind(y[i], y_hat[i])}')\n",
        "\n",
        "      else:\n",
        "        print(f'{loss_function} is incompatible!')\n",
        "      break\n",
        "    except ValueError:\n",
        "      return f'Input must be numeric!'"
      ],
      "metadata": {
        "id": "SAruCkLrVhC6"
      },
      "execution_count": 149,
      "outputs": []
    },
    {
      "cell_type": "code",
      "source": [
        "# @title Exercise_3_ver_2\n",
        "def mae(y, y_hat):\n",
        "  return abs(y - y_hat)/n\n",
        "\n",
        "def mse(y, y_hat):\n",
        "  return ((y - y_hat)**2)/n\n",
        "\n",
        "def rmse(y, y_hat):\n",
        "  return (((y - y_hat)**2)/n)**0.5\n",
        "\n",
        "def exercise_3_ver_2():\n",
        "  '''\n",
        "\n",
        "  '''\n",
        "  while True:\n",
        "    try:\n",
        "      n = int(input(f'Enter number of samples: '))\n",
        "      if n <= 0:\n",
        "        print(f'Numbe of samples must be a positive integer')\n",
        "        continue\n",
        "\n",
        "      loss_function = input(f'Please enter your desire input function (MAE|MSE|RMSE): ').upper()\n",
        "      if loss_function not in ['MSE', 'MAE', 'RMSE']:\n",
        "        print(f'Loss function {loss_function} is not compatible.')\n",
        "        continue\n",
        "\n",
        "      y = [random.uniform(0,10) for _ in range(n)]\n",
        "      y_hat = [random.uniform(0,10) for _ in range(n)]\n",
        "\n",
        "      losses = []\n",
        "      if loss_function == 'MAE':\n",
        "        losses = [mae(y[i], y_hat[i]) for i in range(n)]\n",
        "      elif loss_function == 'MSE':\n",
        "        losses = [mse(y[i], y_hat[i]) for i in range(n)]\n",
        "      elif loss_function == 'RMSE':\n",
        "        losses = [rmse(y[i], y_hat[i]) for i in range(n)]\n",
        "\n",
        "      print(f'Loss function: {loss_function}')\n",
        "      for i in range(n):\n",
        "        print(f'Sample no: {i}| Prediction: {y_hat[i]}| Target: {y[i]}| Loss: {losses[i]}')\n",
        "      break\n",
        "    except ValueError:\n",
        "      print('Input must be numeric')"
      ],
      "metadata": {
        "id": "xMqeIxJ0DLES"
      },
      "execution_count": 158,
      "outputs": []
    },
    {
      "cell_type": "code",
      "source": [
        "exercise_3_ver_2()"
      ],
      "metadata": {
        "colab": {
          "base_uri": "https://localhost:8080/"
        },
        "id": "W5M2-LN_Ji8y",
        "outputId": "83efc21a-fe2e-42ce-f9ff-8a65b807266b"
      },
      "execution_count": 159,
      "outputs": [
        {
          "output_type": "stream",
          "name": "stdout",
          "text": [
            "Enter number of samples: 5 y\n",
            "Input must be numeric\n",
            "Enter number of samples: 7\n",
            "Please enter your desire input function (MAE|MSE|RMSE): rmse\n",
            "Loss function: RMSE\n",
            "Sample no: 0| Prediction: 8.755777449783489| Target: 1.9667872105943995| Loss: 3.036128734681872\n",
            "Sample no: 1| Prediction: 8.696370222711167| Target: 1.1061344233988657| Loss: 3.394456642502951\n",
            "Sample no: 2| Prediction: 7.1514202386415775| Target: 9.703744894876603| Loss: 1.14143428639806\n",
            "Sample no: 3| Prediction: 4.446388223795378| Target: 8.55054397703588| Loss: 1.8354342508985235\n",
            "Sample no: 4| Prediction: 2.43467588833288| Target: 8.68297430203499| Loss: 2.794323999348405\n",
            "Sample no: 5| Prediction: 0.992388689094319| Target: 1.059919725703562| Loss: 0.03020079768985884\n",
            "Sample no: 6| Prediction: 1.2302637342735856| Target: 9.302460363292074| Loss: 3.6099960780459983\n"
          ]
        }
      ]
    },
    {
      "cell_type": "code",
      "source": [
        "exercise_3()"
      ],
      "metadata": {
        "colab": {
          "base_uri": "https://localhost:8080/"
        },
        "id": "h2D-d6lkxXUG",
        "outputId": "bf19619a-81fa-493b-91f7-6df304b5bfb5"
      },
      "execution_count": 150,
      "outputs": [
        {
          "output_type": "stream",
          "name": "stdout",
          "text": [
            "Enter your desired number of samples: 5\n",
            "Select your desired loss function (MAE|MSE|RMSE): mae\n",
            "Loss Function: MAE| Sample_no: 0\n",
            "Prediction: 3.600346406370573| Target: 2.906584469299993\n",
            "Loss: 0.13875238741411594\n",
            "Loss Function: MAE| Sample_no: 1\n",
            "Prediction: 0.25358340312806205| Target: 4.797133760447475\n",
            "Loss: 0.9087100714638826\n",
            "Loss Function: MAE| Sample_no: 2\n",
            "Prediction: 2.9199390574050597| Target: 1.3112576765920192\n",
            "Loss: 0.3217362761626081\n",
            "Loss Function: MAE| Sample_no: 3\n",
            "Prediction: 2.099375448805673| Target: 1.7446602217551288\n",
            "Loss: 0.0709430454101088\n",
            "Loss Function: MAE| Sample_no: 4\n",
            "Prediction: 4.837926458770678| Target: 0.23740159339589229\n",
            "Loss: 0.9201049730749571\n"
          ]
        }
      ]
    },
    {
      "cell_type": "code",
      "source": [
        "n=5\n",
        "y = []\n",
        "y_hat = []\n",
        "for i in range(n):\n",
        "  y.append(random.randint(0,n))\n",
        "  y_hat.append(random.randint(0,n))\n",
        "print(y,y_hat)"
      ],
      "metadata": {
        "colab": {
          "base_uri": "https://localhost:8080/",
          "height": 211
        },
        "id": "yQmkpkjbvOH2",
        "outputId": "b6234d4a-5f20-4058-f702-3b1272c7ec87"
      },
      "execution_count": 117,
      "outputs": [
        {
          "output_type": "error",
          "ename": "IndexError",
          "evalue": "list index out of range",
          "traceback": [
            "\u001b[0;31m---------------------------------------------------------------------------\u001b[0m",
            "\u001b[0;31mIndexError\u001b[0m                                Traceback (most recent call last)",
            "\u001b[0;32m<ipython-input-117-06c68a718a9f>\u001b[0m in \u001b[0;36m<cell line: 4>\u001b[0;34m()\u001b[0m\n\u001b[1;32m      3\u001b[0m \u001b[0my_hat\u001b[0m \u001b[0;34m=\u001b[0m \u001b[0;34m[\u001b[0m\u001b[0;34m]\u001b[0m\u001b[0;34m\u001b[0m\u001b[0;34m\u001b[0m\u001b[0m\n\u001b[1;32m      4\u001b[0m \u001b[0;32mfor\u001b[0m \u001b[0mi\u001b[0m \u001b[0;32min\u001b[0m \u001b[0mrange\u001b[0m\u001b[0;34m(\u001b[0m\u001b[0mn\u001b[0m\u001b[0;34m)\u001b[0m\u001b[0;34m:\u001b[0m\u001b[0;34m\u001b[0m\u001b[0;34m\u001b[0m\u001b[0m\n\u001b[0;32m----> 5\u001b[0;31m   \u001b[0my\u001b[0m\u001b[0;34m[\u001b[0m\u001b[0mi\u001b[0m\u001b[0;34m]\u001b[0m\u001b[0;34m.\u001b[0m\u001b[0mappend\u001b[0m\u001b[0;34m(\u001b[0m\u001b[0mrandom\u001b[0m\u001b[0;34m.\u001b[0m\u001b[0mrandint\u001b[0m\u001b[0;34m(\u001b[0m\u001b[0;36m0\u001b[0m\u001b[0;34m,\u001b[0m\u001b[0mn\u001b[0m\u001b[0;34m)\u001b[0m\u001b[0;34m)\u001b[0m\u001b[0;34m\u001b[0m\u001b[0;34m\u001b[0m\u001b[0m\n\u001b[0m\u001b[1;32m      6\u001b[0m   \u001b[0my_hat\u001b[0m\u001b[0;34m[\u001b[0m\u001b[0mi\u001b[0m\u001b[0;34m]\u001b[0m\u001b[0;34m.\u001b[0m\u001b[0mappend\u001b[0m\u001b[0;34m(\u001b[0m\u001b[0mrandom\u001b[0m\u001b[0;34m.\u001b[0m\u001b[0mrandint\u001b[0m\u001b[0;34m(\u001b[0m\u001b[0;36m0\u001b[0m\u001b[0;34m,\u001b[0m\u001b[0mn\u001b[0m\u001b[0;34m)\u001b[0m\u001b[0;34m)\u001b[0m\u001b[0;34m\u001b[0m\u001b[0;34m\u001b[0m\u001b[0m\n\u001b[1;32m      7\u001b[0m \u001b[0mprint\u001b[0m\u001b[0;34m(\u001b[0m\u001b[0my\u001b[0m\u001b[0;34m,\u001b[0m\u001b[0my_hat\u001b[0m\u001b[0;34m)\u001b[0m\u001b[0;34m\u001b[0m\u001b[0;34m\u001b[0m\u001b[0m\n",
            "\u001b[0;31mIndexError\u001b[0m: list index out of range"
          ]
        }
      ]
    },
    {
      "cell_type": "code",
      "source": [
        "exercise_3()"
      ],
      "metadata": {
        "colab": {
          "base_uri": "https://localhost:8080/",
          "height": 209
        },
        "id": "BE1-cBbgrP2W",
        "outputId": "e2f363fb-57d9-4a08-9b3b-09a90a3757b8"
      },
      "execution_count": 108,
      "outputs": [
        {
          "name": "stdout",
          "output_type": "stream",
          "text": [
            "Enter your desired number of samples: 234\n",
            "Select your desired loss function (MAE|MSE|RMSE): 234\n",
            "234 is incompatible!\n",
            "Enter your desired number of samples: 123\n",
            "Select your desired loss function (MAE|MSE|RMSE): 123\n",
            "123 is incompatible!\n",
            "Enter your desired number of samples: 123\n",
            "Select your desired loss function (MAE|MSE|RMSE): 123\n",
            "123 is incompatible!\n",
            "Enter your desired number of samples: ádf\n"
          ]
        },
        {
          "output_type": "execute_result",
          "data": {
            "text/plain": [
              "'Input must be numeric!'"
            ],
            "application/vnd.google.colaboratory.intrinsic+json": {
              "type": "string"
            }
          },
          "metadata": {},
          "execution_count": 108
        }
      ]
    },
    {
      "cell_type": "code",
      "source": [
        "import random\n",
        "\n",
        "y = []\n",
        "y_hat = []\n",
        "\n",
        "for x in range(5):\n",
        "  y.append(random.randint(0, 10))\n",
        "  y_hat.append(random.randint(0, 10))\n",
        "\n",
        "print(y, y_hat)\n",
        "print(f'Mean absolute error: {mae(y,y_hat)}')\n",
        "print(f'Mean squared error: {mse(y, y_hat)}')\n",
        "print(f'Root mean squared error: {rmse(y, y_hat)}')\n"
      ],
      "metadata": {
        "colab": {
          "base_uri": "https://localhost:8080/"
        },
        "id": "ojVnfRoolF3S",
        "outputId": "2949a0d9-9a19-41bf-88be-9838893955b8"
      },
      "execution_count": 87,
      "outputs": [
        {
          "output_type": "stream",
          "name": "stdout",
          "text": [
            "[5, 5, 10, 7, 2] [9, 5, 8, 4, 7]\n",
            "Mean absolute error: 2.0\n",
            "Mean squared error: 10.0\n",
            "Root mean squared error: 5.0\n"
          ]
        }
      ]
    },
    {
      "cell_type": "code",
      "source": [
        "is_number('p')"
      ],
      "metadata": {
        "colab": {
          "base_uri": "https://localhost:8080/"
        },
        "id": "Hc7a1dJhjxO2",
        "outputId": "ec9dde3c-10be-4d2b-89f4-3173f0336ba6"
      },
      "execution_count": null,
      "outputs": [
        {
          "output_type": "execute_result",
          "data": {
            "text/plain": [
              "False"
            ]
          },
          "metadata": {},
          "execution_count": 88
        }
      ]
    },
    {
      "cell_type": "code",
      "source": [
        "# @title Precision function\n",
        "def model_precision(tp, fp, fn):\n",
        "    '''\n",
        "    This function is created to calculate the precision of a classification model.\n",
        "\n",
        "    Parameters:\n",
        "    tp (int): The number of true positives.\n",
        "    fp (int): The number of false positives.\n",
        "    fn (int): The number of false negatives.\n",
        "\n",
        "    Returns:\n",
        "    None\n",
        "\n",
        "    This function prints the precision, recall, and F1-score of the classification model.\n",
        "    '''\n",
        "    if isinstance(tp, int) and isinstance(fp, int) and isinstance(fn, int):\n",
        "        if tp > 0 and fp > 0 and fn > 0:\n",
        "            precision = tp / (tp + fp)\n",
        "            recall = tp / (tp + fn)\n",
        "            f1_score = 2 * (precision * recall) / (precision + recall)\n",
        "            print(f'Precision is {precision:.4f}')\n",
        "            print(f'Recall is {recall:.4f}')\n",
        "            print(f'F1-score is {f1_score:.4f}')\n",
        "        else:\n",
        "            print('tp, fp, and fn must be greater than 0!')\n",
        "    else:\n",
        "        print('tp, fp, and fn must be integers!')"
      ],
      "metadata": {
        "cellView": "form",
        "id": "AwjWG6Xbf6n6"
      },
      "execution_count": null,
      "outputs": []
    },
    {
      "cell_type": "code",
      "source": [
        "def function():\n",
        "  print(1)\n",
        "  return 5\n",
        "\n",
        "print(2)\n",
        "result = function()\n",
        "print(result)"
      ],
      "metadata": {
        "colab": {
          "base_uri": "https://localhost:8080/"
        },
        "id": "mqsljLt-BXGr",
        "outputId": "50a69198-92bc-4c48-cfe7-f18a4d4e54ff"
      },
      "execution_count": null,
      "outputs": [
        {
          "output_type": "stream",
          "name": "stdout",
          "text": [
            "2\n",
            "1\n",
            "5\n"
          ]
        }
      ]
    },
    {
      "cell_type": "code",
      "source": [
        "index = 5\n",
        "\n",
        "def my_function(index):\n",
        "  index = index + 1\n",
        "  print(index)\n",
        "\n",
        "my_function(7)"
      ],
      "metadata": {
        "colab": {
          "base_uri": "https://localhost:8080/"
        },
        "id": "QWNLy09yKyKE",
        "outputId": "b4dc3d0f-c54b-4cff-b6d1-d8dd43fa46a1"
      },
      "execution_count": null,
      "outputs": [
        {
          "output_type": "stream",
          "name": "stdout",
          "text": [
            "8\n"
          ]
        }
      ]
    },
    {
      "cell_type": "code",
      "source": [
        "import random\n",
        "\n",
        "def get_max():\n",
        "  max = 0\n",
        "  for _ in range(5):\n",
        "    x = random.randint(0,20)\n",
        "    print(x)\n",
        "    if max < x:\n",
        "      max = x\n",
        "  return max\n",
        "\n",
        "print(f'Result: {get_max()}')"
      ],
      "metadata": {
        "colab": {
          "base_uri": "https://localhost:8080/"
        },
        "id": "lJJFzwajO2Vy",
        "outputId": "9fea3d8c-73dc-4847-a814-4f89194f901a"
      },
      "execution_count": null,
      "outputs": [
        {
          "output_type": "stream",
          "name": "stdout",
          "text": [
            "5\n",
            "7\n",
            "6\n",
            "9\n",
            "0\n",
            "Result: 9\n"
          ]
        }
      ]
    },
    {
      "cell_type": "code",
      "source": [
        "def get_min():\n",
        "  min=20\n",
        "  for _ in range(10):\n",
        "    x = random.randint(1,20)\n",
        "    print(x)\n",
        "    if min > x:\n",
        "      min = x\n",
        "  return min\n",
        "\n",
        "print(f'Result: {get_min()}')"
      ],
      "metadata": {
        "colab": {
          "base_uri": "https://localhost:8080/"
        },
        "id": "gHjTrPSYRlL6",
        "outputId": "0142e90f-e4c4-4ff7-9654-34aef05c7d7c"
      },
      "execution_count": null,
      "outputs": [
        {
          "output_type": "stream",
          "name": "stdout",
          "text": [
            "18\n",
            "19\n",
            "11\n",
            "4\n",
            "13\n",
            "10\n",
            "17\n",
            "1\n",
            "3\n",
            "11\n",
            "Result: 1\n"
          ]
        }
      ]
    },
    {
      "cell_type": "code",
      "source": [
        "num_in_1 = 0\n",
        "num_in_2 = 0\n",
        "for _ in range(10000):\n",
        "  x = random.random()\n",
        "  if x < 0.5:\n",
        "    num_in_1 +=1\n",
        "  else:\n",
        "    num_in_2 +=1\n",
        "total = num_in_1 + num_in_2\n",
        "print(f'Number of times it appears: {num_in_1}, Per total: {num_in_1/total}')\n",
        "print(f'Number of times it appears: {num_in_2}, Per total: {num_in_2/total}')"
      ],
      "metadata": {
        "colab": {
          "base_uri": "https://localhost:8080/"
        },
        "id": "wUkpHaQrSZ6-",
        "outputId": "0b80e46f-9df1-4291-912d-06a9b4e0953e"
      },
      "execution_count": null,
      "outputs": [
        {
          "output_type": "stream",
          "name": "stdout",
          "text": [
            "Number of times it appears: 4979, Per total: 0.4979\n",
            "Number of times it appears: 5021, Per total: 0.5021\n"
          ]
        }
      ]
    }
  ]
}