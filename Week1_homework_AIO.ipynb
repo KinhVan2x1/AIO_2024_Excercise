{
  "nbformat": 4,
  "nbformat_minor": 0,
  "metadata": {
    "colab": {
      "provenance": [],
      "authorship_tag": "ABX9TyOy+WcSivBBdkpJG02dAePm",
      "include_colab_link": true
    },
    "kernelspec": {
      "name": "python3",
      "display_name": "Python 3"
    },
    "language_info": {
      "name": "python"
    }
  },
  "cells": [
    {
      "cell_type": "markdown",
      "metadata": {
        "id": "view-in-github",
        "colab_type": "text"
      },
      "source": [
        "<a href=\"https://colab.research.google.com/github/KinhVan2x1/AIO_2024_Excercise/blob/Homework_week1/Week1_homework_AIO.ipynb\" target=\"_parent\"><img src=\"https://colab.research.google.com/assets/colab-badge.svg\" alt=\"Open In Colab\"/></a>"
      ]
    },
    {
      "cell_type": "code",
      "execution_count": 55,
      "metadata": {
        "id": "pzDf0dcaSplW"
      },
      "outputs": [],
      "source": [
        "# @title Precision function\n",
        "def model_precision(tp,fp,fn):\n",
        "  '''\n",
        "  This function is created to calculate the precision of classification model.\n",
        "\n",
        "  Paremeters:\n",
        "  tp is true positive (int)\n",
        "  fp is fals positive (int)\n",
        "  fn is fals negative (int)\n",
        "  '''\n",
        "  if isinstance(tp,int) and isinstance(fp,int) and isinstance(fn,int):\n",
        "      if (tp > 0) and (fp > 0) and (fn > 0):\n",
        "        precision = tp/(tp + fp)\n",
        "        recall = tp/ (tp + fn)\n",
        "        f1_score = 2*(precision * recall)/(precision + recall)\n",
        "        print(f'Precision is {precision}')\n",
        "        print(f'Recall is {recall}')\n",
        "        print(f'F1_score is {f1_score}')\n",
        "      else:\n",
        "        print(f'tp, fp and fn must be greater than 0!!!')\n",
        "  else:\n",
        "      print(f'tp, fp, fn must be int')"
      ]
    },
    {
      "cell_type": "code",
      "source": [
        "model_precision(tp=4,fp=3,fn=4)"
      ],
      "metadata": {
        "colab": {
          "base_uri": "https://localhost:8080/"
        },
        "id": "3o8RjypXcYr8",
        "outputId": "92162a3b-8bd5-41ef-9470-b2f86896e956"
      },
      "execution_count": 53,
      "outputs": [
        {
          "output_type": "stream",
          "name": "stdout",
          "text": [
            "Precision is 0.5714285714285714\n",
            "Recall is 0.5\n",
            "F1_score is 0.5333333333333333\n"
          ]
        }
      ]
    },
    {
      "cell_type": "code",
      "source": [
        "# @title Sigmoid function\n",
        "import math\n",
        "def sigmoid(x):\n",
        "  return 1/(1 + (math.e)**(-x))"
      ],
      "metadata": {
        "id": "kKZ0ZIUihbBZ"
      },
      "execution_count": 70,
      "outputs": []
    },
    {
      "cell_type": "code",
      "source": [
        "sigmoid(100)"
      ],
      "metadata": {
        "colab": {
          "base_uri": "https://localhost:8080/"
        },
        "id": "qjPbXhJhidMw",
        "outputId": "753bc2f1-9ba2-4dd4-ffd2-594b944b83ba"
      },
      "execution_count": 71,
      "outputs": [
        {
          "output_type": "execute_result",
          "data": {
            "text/plain": [
              "1.0"
            ]
          },
          "metadata": {},
          "execution_count": 71
        }
      ]
    },
    {
      "cell_type": "code",
      "source": [
        "# @title is_numer()\n",
        "def is_number(n):\n",
        "  try:\n",
        "    float(n)\n",
        "  except ValueError:\n",
        "    return False\n",
        "  return True"
      ],
      "metadata": {
        "id": "yJQKD8Ish1YP"
      },
      "execution_count": 87,
      "outputs": []
    },
    {
      "cell_type": "code",
      "source": [
        "is_number('p')"
      ],
      "metadata": {
        "colab": {
          "base_uri": "https://localhost:8080/"
        },
        "id": "Hc7a1dJhjxO2",
        "outputId": "ec9dde3c-10be-4d2b-89f4-3173f0336ba6"
      },
      "execution_count": 88,
      "outputs": [
        {
          "output_type": "execute_result",
          "data": {
            "text/plain": [
              "False"
            ]
          },
          "metadata": {},
          "execution_count": 88
        }
      ]
    },
    {
      "cell_type": "code",
      "source": [
        "# @title Precision function\n",
        "def model_precision(tp, fp, fn):\n",
        "    '''\n",
        "    This function is created to calculate the precision of a classification model.\n",
        "\n",
        "    Parameters:\n",
        "    tp (int): The number of true positives.\n",
        "    fp (int): The number of false positives.\n",
        "    fn (int): The number of false negatives.\n",
        "\n",
        "    Returns:\n",
        "    None\n",
        "\n",
        "    This function prints the precision, recall, and F1-score of the classification model.\n",
        "    '''\n",
        "    if isinstance(tp, int) and isinstance(fp, int) and isinstance(fn, int):\n",
        "        if tp > 0 and fp > 0 and fn > 0:\n",
        "            precision = tp / (tp + fp)\n",
        "            recall = tp / (tp + fn)\n",
        "            f1_score = 2 * (precision * recall) / (precision + recall)\n",
        "            print(f'Precision is {precision:.4f}')\n",
        "            print(f'Recall is {recall:.4f}')\n",
        "            print(f'F1-score is {f1_score:.4f}')\n",
        "        else:\n",
        "            print('tp, fp, and fn must be greater than 0!')\n",
        "    else:\n",
        "        print('tp, fp, and fn must be integers!')"
      ],
      "metadata": {
        "id": "AwjWG6Xbf6n6"
      },
      "execution_count": 43,
      "outputs": []
    }
  ]
}