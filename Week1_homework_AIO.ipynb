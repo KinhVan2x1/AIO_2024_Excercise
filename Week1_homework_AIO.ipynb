{
  "nbformat": 4,
  "nbformat_minor": 0,
  "metadata": {
    "colab": {
      "provenance": [],
      "authorship_tag": "ABX9TyO3zUCOxE6PIN2YKYmZEXfF",
      "include_colab_link": true
    },
    "kernelspec": {
      "name": "python3",
      "display_name": "Python 3"
    },
    "language_info": {
      "name": "python"
    }
  },
  "cells": [
    {
      "cell_type": "markdown",
      "metadata": {
        "id": "view-in-github",
        "colab_type": "text"
      },
      "source": [
        "<a href=\"https://colab.research.google.com/github/KinhVan2x1/AIO_2024_Excercise/blob/feature/Week1_homework_AIO.ipynb\" target=\"_parent\"><img src=\"https://colab.research.google.com/assets/colab-badge.svg\" alt=\"Open In Colab\"/></a>"
      ]
    },
    {
      "cell_type": "code",
      "execution_count": null,
      "metadata": {
        "id": "pzDf0dcaSplW",
        "cellView": "form"
      },
      "outputs": [],
      "source": [
        "# @title Precision function\n",
        "def model_precision(tp,fp,fn):\n",
        "  '''\n",
        "  This function is created to calculate the precision of classification model.\n",
        "\n",
        "  Paremeters:\n",
        "  tp is true positive (int)\n",
        "  fp is fals positive (int)\n",
        "  fn is fals negative (int)\n",
        "  '''\n",
        "  if isinstance(tp,int) and isinstance(fp,int) and isinstance(fn,int):\n",
        "      if (tp > 0) and (fp > 0) and (fn > 0):\n",
        "        precision = tp/(tp + fp)\n",
        "        recall = tp/ (tp + fn)\n",
        "        f1_score = 2*(precision * recall)/(precision + recall)\n",
        "        print(f'Precision is {precision}')\n",
        "        print(f'Recall is {recall}')\n",
        "        print(f'F1_score is {f1_score}')\n",
        "      else:\n",
        "        print(f'tp, fp and fn must be greater than 0!!!')\n",
        "  else:\n",
        "      print(f'tp, fp, fn must be int')"
      ]
    },
    {
      "cell_type": "code",
      "source": [
        "model_precision(tp=4,fp=3,fn=4)"
      ],
      "metadata": {
        "colab": {
          "base_uri": "https://localhost:8080/"
        },
        "id": "3o8RjypXcYr8",
        "outputId": "92162a3b-8bd5-41ef-9470-b2f86896e956"
      },
      "execution_count": null,
      "outputs": [
        {
          "output_type": "stream",
          "name": "stdout",
          "text": [
            "Precision is 0.5714285714285714\n",
            "Recall is 0.5\n",
            "F1_score is 0.5333333333333333\n"
          ]
        }
      ]
    },
    {
      "cell_type": "code",
      "source": [
        "# @title Sigmoid function\n",
        "import math\n",
        "def sigmoid(x):\n",
        "  return 1/(1 + (math.e)**(-x))"
      ],
      "metadata": {
        "id": "kKZ0ZIUihbBZ",
        "cellView": "form"
      },
      "execution_count": null,
      "outputs": []
    },
    {
      "cell_type": "code",
      "source": [
        "# @title RELU\n",
        "def relu(x):\n",
        "  if x < 0:\n",
        "    result = 0\n",
        "  else:\n",
        "    result = x\n",
        "  return result\n",
        "\n",
        "print(relu(-3))\n",
        "print(relu(4))"
      ],
      "metadata": {
        "colab": {
          "base_uri": "https://localhost:8080/"
        },
        "id": "H2tagNOYG2aT",
        "outputId": "a4f7c547-7207-4cab-c1df-63c533e45d3a",
        "cellView": "form"
      },
      "execution_count": null,
      "outputs": [
        {
          "output_type": "stream",
          "name": "stdout",
          "text": [
            "0\n",
            "4\n"
          ]
        }
      ]
    },
    {
      "cell_type": "code",
      "source": [
        "# @title ELU\n",
        "def elu(x):\n",
        "  alpha = 0.01\n",
        "  if (x > 0):\n",
        "    return x\n",
        "  else:\n",
        "    return alpha*(math.e**x - 1)"
      ],
      "metadata": {
        "id": "lqrTcN1Jru45",
        "cellView": "form"
      },
      "execution_count": null,
      "outputs": []
    },
    {
      "cell_type": "code",
      "source": [
        "# @title is_numer()\n",
        "def is_number(n):\n",
        "  try:\n",
        "    float(n)\n",
        "  except ValueError:\n",
        "    return False\n",
        "  return True"
      ],
      "metadata": {
        "id": "yJQKD8Ish1YP",
        "cellView": "form"
      },
      "execution_count": null,
      "outputs": []
    },
    {
      "cell_type": "code",
      "source": [
        "# @title Excercise_2\n",
        "def exercise_2(x, activation_function):\n",
        "  '''\n",
        "  The purpose of this exercise is to calculate the outcome of the input based on the selection of activation functions\n",
        "  '''\n",
        "  if isinstance(x, float):\n",
        "    if activation_function == 'relu':\n",
        "      return f'Relu: {relu(x)}'\n",
        "    elif activation_function == 'sigmoid':\n",
        "      return f'Sigmoid: {sigmoid(x)}'\n",
        "    else:\n",
        "      return f'Elu: {elu(x)}'\n",
        "  else:\n",
        "    return f'X must be a number'"
      ],
      "metadata": {
        "id": "faXSWFlyqb10",
        "cellView": "form"
      },
      "execution_count": null,
      "outputs": []
    },
    {
      "cell_type": "code",
      "source": [
        "# @title Exercise 2 version 2 - Activation Functions\n",
        "def exercise_2_ver_2():\n",
        "  while True:\n",
        "    try:\n",
        "      x = float(input('Enter your x: '))\n",
        "      activation_function = input(f'Select your activation function (sigmoid|relu|elu): ').lower()\n",
        "      if activation_function == 'sigmoid':\n",
        "        return f'Sigmoid: {sigmoid(x):.2f}'\n",
        "      elif activation_function == 'relu':\n",
        "        return f'Relu: {relu(x):.2f}'\n",
        "      elif activation_function == 'elu':\n",
        "        return f'Elu: {elu(x):.2f}'\n",
        "      else:\n",
        "        return f'{activation_function} is not supported!'\n",
        "    except ValueError:\n",
        "      print('X must be a number!')"
      ],
      "metadata": {
        "id": "KIw8Hyt4TnVz"
      },
      "execution_count": null,
      "outputs": []
    },
    {
      "cell_type": "code",
      "source": [
        "# @title Exercise 2 ver 3 -Activation Functions\n",
        "def exercise_2_ver_3():\n",
        "  while True:\n",
        "    try:\n",
        "      result = None\n",
        "      x = input('Enter your x: ')\n",
        "      activation_function = input(f'Select your activation function (sigmoid|relu|elu): ').lower()\n",
        "\n",
        "      if activation_function not in ['sigmoid', 'relu', 'elu']:\n",
        "        print(f'Activation function {activation_function} is not compatible!')\n",
        "        continue\n",
        "      elif activation_function ==\n"
      ],
      "metadata": {
        "id": "Tr8tMVM8bCbr"
      },
      "execution_count": null,
      "outputs": []
    },
    {
      "cell_type": "code",
      "source": [
        "exercise_2_ver_2()"
      ],
      "metadata": {
        "colab": {
          "base_uri": "https://localhost:8080/",
          "height": 70
        },
        "id": "WJ26Whm9Uhn6",
        "outputId": "dc14a441-5db6-41e0-c26c-3174ad4fc560"
      },
      "execution_count": null,
      "outputs": [
        {
          "name": "stdout",
          "output_type": "stream",
          "text": [
            "Enter your x: 23\n",
            "Select your activation function (sigmoid|relu|elu): sdf\n"
          ]
        },
        {
          "output_type": "execute_result",
          "data": {
            "text/plain": [
              "'sdf is not supported!'"
            ],
            "application/vnd.google.colaboratory.intrinsic+json": {
              "type": "string"
            }
          },
          "metadata": {},
          "execution_count": 49
        }
      ]
    },
    {
      "cell_type": "code",
      "source": [
        "def exercise_2():\n",
        "    while True: # Checking the condition for the whhile loop for valid input of x and activation function\n",
        "        try:\n",
        "            x = float(input(f'Enter your x: '))\n",
        "            activation_function = input(f'Select activation function (sigmoid|relu|elu): ').lower()\n",
        "            if activation_function == 'sigmoid':\n",
        "                return f'Sigmoid: {sigmoid(x)}'\n",
        "            elif activation_function == 'relu':\n",
        "                return f'ReLu: {max(0, x)}'\n",
        "            elif activation_function == 'elu':\n",
        "                return f'Elu: {x if x >= 0 else np.exp(x) - 1}'\n",
        "            else:\n",
        "                print(\"Invalid activation function. Please try again.\")\n",
        "        except ValueError:\n",
        "            print('X must be a number!')"
      ],
      "metadata": {
        "id": "0x-smxFoSrqU"
      },
      "execution_count": null,
      "outputs": []
    },
    {
      "cell_type": "code",
      "source": [
        "# @title Exercise_3 Function for calculating Loss\n",
        "import math\n",
        "\n",
        "def mae(y, y_hat):\n",
        "  '''\n",
        "  This function was created to calculate mean absolute error for a list\n",
        "  n is the number of samples\n",
        "  i is the instance within the list\n",
        "  y is the target\n",
        "  y_hat is the prediction\n",
        "  '''\n",
        "  res = 0\n",
        "  n = len(y)\n",
        "  for i in range(n):\n",
        "    res = abs(y[i] - y_hat[i])\n",
        "    res += res\n",
        "  return res/n\n",
        "\n",
        "def mse(y, y_hat):\n",
        "  '''\n",
        "  This function was created to calculate mean squared error for a list\n",
        "  n is the number of samples\n",
        "  i is the instanc within the sample\n",
        "  y is the target\n",
        "  y_hat is the prediction\n",
        "  '''\n",
        "  res = 0\n",
        "  n = len(y)\n",
        "  for i in range(n):\n",
        "    res = (y[i] - y_hat[i])**2\n",
        "    res += res\n",
        "  return res/n\n",
        "\n",
        "def rmse(y, ty_hat):\n",
        "  '''\n",
        "  This function was created to calculate root mean squared error for a list\n",
        "  n is the number of samples\n",
        "  i is the instanc within the sample\n",
        "  y is the target\n",
        "  y_hat is the prediction\n",
        "  '''\n",
        "  res = 0\n",
        "  n = len(y)\n",
        "  for i in range(n):\n",
        "    res = (y[i] - y_hat[i])**2\n",
        "    res += res\n",
        "  return (res/n)**0.5\n",
        "\n",
        "def mae_ind(y, y_hat):\n",
        "  return abs(y - y_hat)/n\n",
        "def mse_ind(y, y_hat):\n",
        "  return ((y - y_hat)**2)/n\n",
        "def rmse_ind(y, y_hat):\n",
        "  return (((y - y_hat)**2)/n)**0.5\n",
        "def exercise_3():\n",
        "  '''\n",
        "  Input:\n",
        "  - Users enter the number of desired samples\n",
        "  - Users enter the name of the loss function\n",
        "\n",
        "  Output:\n",
        "  - Loss name: User selected\n",
        "  - sample\n",
        "  '''\n",
        "  while True:\n",
        "    try:\n",
        "      n = int(input(f'Enter your desired number of samples: '))\n",
        "      loss_function = input(f'Select your desired loss function (MAE|MSE|RMSE): ').lower()\n",
        "\n",
        "      y = []\n",
        "      y_hat = []\n",
        "\n",
        "      for _ in range(n):\n",
        "        y.append(random.uniform(0,n))\n",
        "        y_hat.append(random.uniform(0,n))\n",
        "\n",
        "      if loss_function == 'mae':\n",
        "        for i in range(n):\n",
        "          print(f'Loss Function: {loss_function.upper()}| Sample_no: {i}')\n",
        "          print(f'Prediction: {y_hat[i]}| Target: {y[i]}')\n",
        "          print(f'Loss: {mae_ind(y[i], y_hat[i])}')\n",
        "\n",
        "      elif loss_function == 'mse':\n",
        "        for i in range(n):\n",
        "          print(f'Loss Function: {loss_function.upper()}| Sample_no: {i}')\n",
        "          print(f'Prediction: {y_hat[i]}| Target: {y[i]}')\n",
        "          print(f'Loss: {mse_ind(y[i], y_hat[i])}')\n",
        "\n",
        "      elif loss_function == 'rmse':\n",
        "        for i in range(n):\n",
        "          print(f'Loss Function: {loss_function.upper()}| Sample_no: {i}')\n",
        "          print(f'Prediction: {y_hat[i]}| Target: {y[i]}')\n",
        "          print(f'Loss: {rmse_ind(y[i], y_hat[i])}')\n",
        "\n",
        "      else:\n",
        "        print(f'{loss_function} is incompatible!')\n",
        "      break\n",
        "    except ValueError:\n",
        "      return f'Input must be numeric!'"
      ],
      "metadata": {
        "id": "SAruCkLrVhC6"
      },
      "execution_count": 149,
      "outputs": []
    },
    {
      "cell_type": "code",
      "source": [
        "# @title Exercise_3_ver_2\n",
        "def mae(y, y_hat):\n",
        "  return abs(y - y_hat)/n\n",
        "\n",
        "def mse(y, y_hat):\n",
        "  return ((y - y_hat)**2)/n\n",
        "\n",
        "def rmse(y, y_hat):\n",
        "  return (((y - y_hat)**2)/n)**0.5\n",
        "\n",
        "def exercise_3_ver_2():\n",
        "  '''\n",
        "\n",
        "  '''\n",
        "  while True:\n",
        "    try:\n",
        "      n = int(input(f'Enter number of samples: '))\n",
        "      if n <= 0:\n",
        "        print(f'Number of samples must be a positive integer')\n",
        "        continue\n",
        "\n",
        "      loss_function = input(f'Please enter your desire input function (MAE|MSE|RMSE): ').upper()\n",
        "      if loss_function not in ['MSE', 'MAE', 'RMSE']:\n",
        "        print(f'Loss function {loss_function} is not compatible.')\n",
        "        continue\n",
        "\n",
        "      y = [random.uniform(0,10) for _ in range(n)]\n",
        "      y_hat = [random.uniform(0,10) for _ in range(n)]\n",
        "\n",
        "      losses = []\n",
        "      if loss_function == 'MAE':\n",
        "        losses = [mae(y[i], y_hat[i]) for i in range(n)]\n",
        "      elif loss_function == 'MSE':\n",
        "        losses = [mse(y[i], y_hat[i]) for i in range(n)]\n",
        "      elif loss_function == 'RMSE':\n",
        "        losses = [rmse(y[i], y_hat[i]) for i in range(n)]\n",
        "\n",
        "      print(f'Loss function: {loss_function}')\n",
        "      for i in range(n):\n",
        "        print(f'Sample no: {i}| Prediction: {y_hat[i]}| Target: {y[i]}| Loss: {losses[i]}')\n",
        "      break\n",
        "    except ValueError:\n",
        "      print('Input must be numeric')"
      ],
      "metadata": {
        "id": "xMqeIxJ0DLES"
      },
      "execution_count": 158,
      "outputs": []
    },
    {
      "cell_type": "code",
      "source": [
        "exercise_3_ver_2()"
      ],
      "metadata": {
        "colab": {
          "base_uri": "https://localhost:8080/"
        },
        "id": "W5M2-LN_Ji8y",
        "outputId": "83efc21a-fe2e-42ce-f9ff-8a65b807266b"
      },
      "execution_count": 159,
      "outputs": [
        {
          "output_type": "stream",
          "name": "stdout",
          "text": [
            "Enter number of samples: 5 y\n",
            "Input must be numeric\n",
            "Enter number of samples: 7\n",
            "Please enter your desire input function (MAE|MSE|RMSE): rmse\n",
            "Loss function: RMSE\n",
            "Sample no: 0| Prediction: 8.755777449783489| Target: 1.9667872105943995| Loss: 3.036128734681872\n",
            "Sample no: 1| Prediction: 8.696370222711167| Target: 1.1061344233988657| Loss: 3.394456642502951\n",
            "Sample no: 2| Prediction: 7.1514202386415775| Target: 9.703744894876603| Loss: 1.14143428639806\n",
            "Sample no: 3| Prediction: 4.446388223795378| Target: 8.55054397703588| Loss: 1.8354342508985235\n",
            "Sample no: 4| Prediction: 2.43467588833288| Target: 8.68297430203499| Loss: 2.794323999348405\n",
            "Sample no: 5| Prediction: 0.992388689094319| Target: 1.059919725703562| Loss: 0.03020079768985884\n",
            "Sample no: 6| Prediction: 1.2302637342735856| Target: 9.302460363292074| Loss: 3.6099960780459983\n"
          ]
        }
      ]
    },
    {
      "cell_type": "code",
      "source": [
        "exercise_3()"
      ],
      "metadata": {
        "colab": {
          "base_uri": "https://localhost:8080/"
        },
        "id": "h2D-d6lkxXUG",
        "outputId": "bf19619a-81fa-493b-91f7-6df304b5bfb5"
      },
      "execution_count": 150,
      "outputs": [
        {
          "output_type": "stream",
          "name": "stdout",
          "text": [
            "Enter your desired number of samples: 5\n",
            "Select your desired loss function (MAE|MSE|RMSE): mae\n",
            "Loss Function: MAE| Sample_no: 0\n",
            "Prediction: 3.600346406370573| Target: 2.906584469299993\n",
            "Loss: 0.13875238741411594\n",
            "Loss Function: MAE| Sample_no: 1\n",
            "Prediction: 0.25358340312806205| Target: 4.797133760447475\n",
            "Loss: 0.9087100714638826\n",
            "Loss Function: MAE| Sample_no: 2\n",
            "Prediction: 2.9199390574050597| Target: 1.3112576765920192\n",
            "Loss: 0.3217362761626081\n",
            "Loss Function: MAE| Sample_no: 3\n",
            "Prediction: 2.099375448805673| Target: 1.7446602217551288\n",
            "Loss: 0.0709430454101088\n",
            "Loss Function: MAE| Sample_no: 4\n",
            "Prediction: 4.837926458770678| Target: 0.23740159339589229\n",
            "Loss: 0.9201049730749571\n"
          ]
        }
      ]
    },
    {
      "cell_type": "code",
      "source": [
        "# @title Exercise_4 Estimation functions\n",
        "import math\n",
        "\n",
        "def fac(x):\n",
        "  res = 1\n",
        "  for i in range(1, x+1):\n",
        "    res = res*i\n",
        "  return res\n",
        "\n",
        "def approx_sin(x, n):\n",
        "  res = 0\n",
        "  for i in range(n+1):\n",
        "    coef = (-1)**i\n",
        "    nom = x**(2*i+1)\n",
        "    dem = fac(2*i+1)\n",
        "    res += coef * (nom/dem)\n",
        "  return res\n",
        "\n",
        "def approx_cos(x, n):\n",
        "  res = 0\n",
        "  for i in range(n+1):\n",
        "    coef = (-1)**i\n",
        "    nom = x**(2*i)\n",
        "    dem = fac(2*i)\n",
        "    res += coef * (nom/dem)\n",
        "  return res\n",
        "\n",
        "def approx_cosh(x, n):\n",
        "  res = 0\n",
        "  for i in range(n+1):\n",
        "    nom = x**(2*i)\n",
        "    dem = fac(2*i)\n",
        "    res += (nom/dem)\n",
        "  return res\n",
        "\n",
        "def approx_sinh(x, n):\n",
        "  res = 0\n",
        "  for i in range(n+1):\n",
        "    nom = x**(2*i+1)\n",
        "    dem = fac(2*i+1)\n",
        "    res += (nom/dem)\n",
        "  return res"
      ],
      "metadata": {
        "id": "gtY3VPlmuaks"
      },
      "execution_count": 236,
      "outputs": []
    },
    {
      "cell_type": "code",
      "source": [
        "approx_cos(x=3.14, n=10)"
      ],
      "metadata": {
        "colab": {
          "base_uri": "https://localhost:8080/"
        },
        "id": "urGLN8qoyVwc",
        "outputId": "16c0d450-e9c4-4370-d49e-5560324af5bc"
      },
      "execution_count": 237,
      "outputs": [
        {
          "output_type": "execute_result",
          "data": {
            "text/plain": [
              "-0.9999987316527259"
            ]
          },
          "metadata": {},
          "execution_count": 237
        }
      ]
    },
    {
      "cell_type": "code",
      "source": [
        "# @title Exercise 5 - Mean Difference of nth Root error\n",
        "\n",
        "def md_nre_single_sample(y, y_hat, n, p):\n",
        "  '''\n",
        "  y: Giá trị của y\n",
        "  y_hat: Giá trị của y_hat\n",
        "  n: Căn bậc n\n",
        "  p: Bậc của hàm loss\n",
        "  '''\n",
        "  y_root = y**(1/n)\n",
        "  y_hat_root = y_hat**(1/n)\n",
        "  diff = (y_root - y_hat_root)\n",
        "  return diff**p\n"
      ],
      "metadata": {
        "id": "5ceTUuaw3S8u"
      },
      "execution_count": 240,
      "outputs": []
    },
    {
      "cell_type": "code",
      "source": [
        "md_nre_single_sample(y=20, y_hat=19.5, n=2, p=1)"
      ],
      "metadata": {
        "colab": {
          "base_uri": "https://localhost:8080/"
        },
        "id": "mFDUkk5F4HoZ",
        "outputId": "88ff0b39-0cc6-4dae-853f-682ba9fe2bf3"
      },
      "execution_count": 241,
      "outputs": [
        {
          "output_type": "execute_result",
          "data": {
            "text/plain": [
              "0.05625552183565574"
            ]
          },
          "metadata": {},
          "execution_count": 241
        }
      ]
    }
  ]
}